{
 "cells": [
  {
   "cell_type": "markdown",
   "metadata": {},
   "source": [
    "# Connect and Insert Data to MySQL Server with Python\n",
    "\n",
    "# Introduction \n",
    "\n",
    "In the world with increasing data availability, it is become a norm to store and collect data from a cloud database instead of using a local file when you are part of a start up or large corporation. Several service, such as Google Cloud Platform or Microsoft Azure provide us with a cloud storage service to store a large dataset. Most of the current database system use SQL to store and collect this data. Therefore, understanding how to write a command or a query using SQL is currently one of the top skills required in data-related job, espescially for a data analyst and data scientist. The following graph is the result of [2020 Data Science and Machine Learning Survey](https://research.aimultiple.com/data-science-tools/).\n",
    "\n",
    "<center><img src=\"asset/survey.png\"></center>\n",
    "\n",
    "To learn more about how to run an SQL query, we will use one of the most common database management system: MySQL. On this occasion, I will guide you on how to do the following things with MySQL:\n",
    "\n",
    "- Create a database with MySQL server\n",
    "- Create multiple table\n",
    "- Insert data into SQL table \n",
    "- Write query to collect data from SQL database\n",
    "\n",
    "The full data analytics process that will analyze and gain insight from the data will be done in separate notebook.\n",
    "\n",
    "For a quick introduction about SQL if you are not familiar with SQL, you can visit [this website](https://www.learnsqlonline.org/) and just read the welcome page or you can try some practice and come back here later."
   ]
  },
  {
   "cell_type": "markdown",
   "metadata": {},
   "source": [
    "# Set Up MySQL Server\n",
    "\n",
    "There are a lot of options for you to start creating a database, either using common cloud service such as [Google Cloud Platform](https://help.appsheet.com/en/articles/3627169-create-a-mysql-database-hosted-in-google-cloud) or [Microsoft Azure](https://docs.microsoft.com/en-us/azure/mysql/flexible-server/quickstart-create-server-portal), or you can also try setting up a local mysql server in your device. However, setting up a database on these can be a quite long process. Since our goal is focus on preparing data and store in in mysql, we will use a free hosting website with [db4free](https://db4free.net/). \n",
    "\n",
    "![](asset/db4free.png)\n",
    "\n",
    "This website help us set a free and small MySQL server for us to practice. You just need to [register](https://db4free.net/signup.php) with your email and enter the following information:\n",
    "\n",
    "- The name of your MySQL database\n",
    "- Your username to login\n",
    "- Your password to login\n",
    "- Your email address for validation"
   ]
  },
  {
   "cell_type": "markdown",
   "metadata": {},
   "source": [
    "# Library\n",
    "\n",
    "The following is the required library that we will use throughout this notebook."
   ]
  },
  {
   "cell_type": "code",
   "execution_count": 1,
   "metadata": {},
   "outputs": [],
   "source": [
    "# Data wrangling\n",
    "import pandas as pd\n",
    "import numpy as np\n",
    "\n",
    "# Regular expression to transform string\n",
    "import re\n",
    "\n",
    "# Computation time\n",
    "import time\n",
    "\n",
    "# Connect to mysql server\n",
    "import mysql.connector"
   ]
  },
  {
   "cell_type": "markdown",
   "metadata": {},
   "source": [
    "# Data\n",
    "\n",
    "We will use data of Singapore room listing from [Airbnb](http://insideairbnb.com/get-the-data.html). The dataset contain information about room or listing that is posted on Airbnb site in Singapore. \n",
    "\n",
    "The airbnb data contains 3 separate dataset for each region:\n",
    "\n",
    "- Listing: Detailed information about listing or room posted on airbnb. One host can have multiple listings.\n",
    "- Calendar: Detailed daily availability and price from each listing\n",
    "- Reviews: Detailed customer review of airbnb listing\n",
    "\n",
    "For the detailed information regarding each column, you can check the description for each column in [this spreadsheet](https://docs.google.com/spreadsheets/d/1iWCNJcSutYqpULSQHlNyGInUvHg2BoUGoNRIGa6Szc4/edit?usp=sharing).\n",
    "\n",
    "Each dataset can be further broken down into several parts. For example, in listing data there are several columns that store information about the host instead of the room/listing. In practice, we can reduce the number of required space for the database by separating the data about listing and the data about host, since a single host can have multiple listing. \n",
    "\n",
    "To illustrate the relation between each data, we will draw an **Entity Relationship Diagram (ERD)**. An ERD is often used to help data engineer to design a database and show the relation between each table. \n",
    "\n",
    "![ERD of Airbnb](asset/ERD_Airbnb.png)\n",
    "\n",
    "On each table, you can have a column that contain a unique ID to identify each row in a table. This column is called as **Primary Key (PK)**. For example, in host_info table, a unique host should only stored once and there is no duplicate in the table. This host is identified by the `host_id` column. There is also a column that is called as **Foreign Key (FK)**. For example, the listing table has `id` as the primary key and `host_id` as the foreign key. This means that we can join the listing table with the host_info table by matching the `host_id` on the listing table with the `host_id` on the host_info table. \n",
    "\n",
    "The relation or the cardinality between table is illustrated by the sign at both end of the arrow. There are different cardinality in ERD, you can look at the detailed explanation [here](https://www.youtube.com/watch?v=QpdhBUYk7Kk). A host can have zero (no listing) or many listing, so the cardinality at the listing side is illustrated as *zero or many*. Naturally, a room listing can only be owned by a single host. There is no listing that is owned by different hosts. Therefore, the cardinality at the host_info side is illustrated as *one (and only one)*.\n",
    "\n",
    "<center><img src=\"asset/erd_cardinality.png\" style=\"width: 400px;\"/></center>"
   ]
  },
  {
   "cell_type": "markdown",
   "metadata": {},
   "source": [
    "## Host\n",
    "### Processing Host Table\n",
    "\n",
    "We will start creating and cleansing a host table from the listing data. Let's start by importing the listing data."
   ]
  },
  {
   "cell_type": "code",
   "execution_count": 2,
   "metadata": {},
   "outputs": [
    {
     "name": "stdout",
     "output_type": "stream",
     "text": [
      "Number of rows: 4388\n",
      "Number of columns: 74\n"
     ]
    }
   ],
   "source": [
    "df_listing = pd.read_csv(\"data/listings.csv\")\n",
    "\n",
    "print(\"Number of rows: %i\" %df_listing.shape[0])\n",
    "print(\"Number of columns: %i\" %df_listing.shape[1])"
   ]
  },
  {
   "cell_type": "markdown",
   "metadata": {},
   "source": [
    "Let's check the information from the dataset."
   ]
  },
  {
   "cell_type": "code",
   "execution_count": 3,
   "metadata": {},
   "outputs": [
    {
     "name": "stdout",
     "output_type": "stream",
     "text": [
      "<class 'pandas.core.frame.DataFrame'>\n",
      "RangeIndex: 4388 entries, 0 to 4387\n",
      "Data columns (total 74 columns):\n",
      " #   Column                                        Non-Null Count  Dtype  \n",
      "---  ------                                        --------------  -----  \n",
      " 0   id                                            4388 non-null   int64  \n",
      " 1   listing_url                                   4388 non-null   object \n",
      " 2   scrape_id                                     4388 non-null   int64  \n",
      " 3   last_scraped                                  4388 non-null   object \n",
      " 4   name                                          4388 non-null   object \n",
      " 5   description                                   4241 non-null   object \n",
      " 6   neighborhood_overview                         2787 non-null   object \n",
      " 7   picture_url                                   4388 non-null   object \n",
      " 8   host_id                                       4388 non-null   int64  \n",
      " 9   host_url                                      4388 non-null   object \n",
      " 10  host_name                                     4328 non-null   object \n",
      " 11  host_since                                    4328 non-null   object \n",
      " 12  host_location                                 4327 non-null   object \n",
      " 13  host_about                                    2985 non-null   object \n",
      " 14  host_response_time                            3707 non-null   object \n",
      " 15  host_response_rate                            3707 non-null   object \n",
      " 16  host_acceptance_rate                          3394 non-null   object \n",
      " 17  host_is_superhost                             4328 non-null   object \n",
      " 18  host_thumbnail_url                            4328 non-null   object \n",
      " 19  host_picture_url                              4328 non-null   object \n",
      " 20  host_neighbourhood                            3944 non-null   object \n",
      " 21  host_listings_count                           4328 non-null   float64\n",
      " 22  host_total_listings_count                     4328 non-null   float64\n",
      " 23  host_verifications                            4388 non-null   object \n",
      " 24  host_has_profile_pic                          4328 non-null   object \n",
      " 25  host_identity_verified                        4328 non-null   object \n",
      " 26  neighbourhood                                 2787 non-null   object \n",
      " 27  neighbourhood_cleansed                        4388 non-null   object \n",
      " 28  neighbourhood_group_cleansed                  4388 non-null   object \n",
      " 29  latitude                                      4388 non-null   float64\n",
      " 30  longitude                                     4388 non-null   float64\n",
      " 31  property_type                                 4388 non-null   object \n",
      " 32  room_type                                     4388 non-null   object \n",
      " 33  accommodates                                  4388 non-null   int64  \n",
      " 34  bathrooms                                     0 non-null      float64\n",
      " 35  bathrooms_text                                4367 non-null   object \n",
      " 36  bedrooms                                      3973 non-null   float64\n",
      " 37  beds                                          4312 non-null   float64\n",
      " 38  amenities                                     4388 non-null   object \n",
      " 39  price                                         4388 non-null   object \n",
      " 40  minimum_nights                                4388 non-null   int64  \n",
      " 41  maximum_nights                                4388 non-null   int64  \n",
      " 42  minimum_minimum_nights                        4387 non-null   float64\n",
      " 43  maximum_minimum_nights                        4387 non-null   float64\n",
      " 44  minimum_maximum_nights                        4387 non-null   float64\n",
      " 45  maximum_maximum_nights                        4387 non-null   float64\n",
      " 46  minimum_nights_avg_ntm                        4387 non-null   float64\n",
      " 47  maximum_nights_avg_ntm                        4387 non-null   float64\n",
      " 48  calendar_updated                              0 non-null      float64\n",
      " 49  has_availability                              4388 non-null   object \n",
      " 50  availability_30                               4388 non-null   int64  \n",
      " 51  availability_60                               4388 non-null   int64  \n",
      " 52  availability_90                               4388 non-null   int64  \n",
      " 53  availability_365                              4388 non-null   int64  \n",
      " 54  calendar_last_scraped                         4388 non-null   object \n",
      " 55  number_of_reviews                             4388 non-null   int64  \n",
      " 56  number_of_reviews_ltm                         4388 non-null   int64  \n",
      " 57  number_of_reviews_l30d                        4388 non-null   int64  \n",
      " 58  first_review                                  2617 non-null   object \n",
      " 59  last_review                                   2617 non-null   object \n",
      " 60  review_scores_rating                          2555 non-null   float64\n",
      " 61  review_scores_accuracy                        2550 non-null   float64\n",
      " 62  review_scores_cleanliness                     2551 non-null   float64\n",
      " 63  review_scores_checkin                         2550 non-null   float64\n",
      " 64  review_scores_communication                   2550 non-null   float64\n",
      " 65  review_scores_location                        2549 non-null   float64\n",
      " 66  review_scores_value                           2549 non-null   float64\n",
      " 67  license                                       0 non-null      float64\n",
      " 68  instant_bookable                              4388 non-null   object \n",
      " 69  calculated_host_listings_count                4388 non-null   int64  \n",
      " 70  calculated_host_listings_count_entire_homes   4388 non-null   int64  \n",
      " 71  calculated_host_listings_count_private_rooms  4388 non-null   int64  \n",
      " 72  calculated_host_listings_count_shared_rooms   4388 non-null   int64  \n",
      " 73  reviews_per_month                             2617 non-null   float64\n",
      "dtypes: float64(23), int64(17), object(34)\n",
      "memory usage: 2.5+ MB\n"
     ]
    }
   ],
   "source": [
    "df_listing.info()"
   ]
  },
  {
   "cell_type": "markdown",
   "metadata": {},
   "source": [
    "The listing dataset contain information about each room listing or room posted on the airbnb website by the host. Several columns contain missing values, but we will deal with them later. \n",
    "\n",
    "A single host is identified by the `host_id` and may have multiple room in the listing. Let's check this hypothesis."
   ]
  },
  {
   "cell_type": "code",
   "execution_count": 4,
   "metadata": {},
   "outputs": [
    {
     "data": {
      "text/plain": [
       "host_id\n",
       "138649185    157\n",
       "66406177     142\n",
       "2413412      137\n",
       "238891646    116\n",
       "8948251      109\n",
       "            ... \n",
       "47987680       1\n",
       "48018398       1\n",
       "48108016       1\n",
       "48110833       1\n",
       "393244617      1\n",
       "Length: 1205, dtype: int64"
      ]
     },
     "execution_count": 4,
     "metadata": {},
     "output_type": "execute_result"
    }
   ],
   "source": [
    "df_listing.value_counts('host_id')"
   ]
  },
  {
   "cell_type": "markdown",
   "metadata": {},
   "source": [
    "As we have seen from the above output, several hosts even have hundreds of listing. For efficient storage in the database, we will separate information about the host, such as `host_id`, `host_url`, etc. from the information about the listing."
   ]
  },
  {
   "cell_type": "code",
   "execution_count": 5,
   "metadata": {},
   "outputs": [
    {
     "name": "stdout",
     "output_type": "stream",
     "text": [
      "<class 'pandas.core.frame.DataFrame'>\n",
      "RangeIndex: 4388 entries, 0 to 4387\n",
      "Data columns (total 22 columns):\n",
      " #   Column                                        Non-Null Count  Dtype  \n",
      "---  ------                                        --------------  -----  \n",
      " 0   host_id                                       4388 non-null   int64  \n",
      " 1   host_url                                      4388 non-null   object \n",
      " 2   host_name                                     4328 non-null   object \n",
      " 3   host_since                                    4328 non-null   object \n",
      " 4   host_location                                 4327 non-null   object \n",
      " 5   host_about                                    2985 non-null   object \n",
      " 6   host_response_time                            3707 non-null   object \n",
      " 7   host_response_rate                            3707 non-null   object \n",
      " 8   host_acceptance_rate                          3394 non-null   object \n",
      " 9   host_is_superhost                             4328 non-null   object \n",
      " 10  host_thumbnail_url                            4328 non-null   object \n",
      " 11  host_picture_url                              4328 non-null   object \n",
      " 12  host_neighbourhood                            3944 non-null   object \n",
      " 13  host_listings_count                           4328 non-null   float64\n",
      " 14  host_total_listings_count                     4328 non-null   float64\n",
      " 15  host_verifications                            4388 non-null   object \n",
      " 16  host_has_profile_pic                          4328 non-null   object \n",
      " 17  host_identity_verified                        4328 non-null   object \n",
      " 18  calculated_host_listings_count                4388 non-null   int64  \n",
      " 19  calculated_host_listings_count_entire_homes   4388 non-null   int64  \n",
      " 20  calculated_host_listings_count_private_rooms  4388 non-null   int64  \n",
      " 21  calculated_host_listings_count_shared_rooms   4388 non-null   int64  \n",
      "dtypes: float64(2), int64(5), object(15)\n",
      "memory usage: 754.3+ KB\n"
     ]
    }
   ],
   "source": [
    "# Collect columns related to host \n",
    "df_host1 = df_listing.loc[:, 'host_id':'host_identity_verified']\n",
    "df_host2 = df_listing.loc[:, 'calculated_host_listings_count':'calculated_host_listings_count_shared_rooms']\n",
    "\n",
    "df_host = pd.concat([df_host1, df_host2], axis = 1)\n",
    "\n",
    "df_host.info()"
   ]
  },
  {
   "cell_type": "markdown",
   "metadata": {},
   "source": [
    "Now we have 22 columns for the host and the rest is columns related to the individual listing.\n",
    "\n",
    "There should be no duplicate host, so we will remove duplicated host."
   ]
  },
  {
   "cell_type": "code",
   "execution_count": 6,
   "metadata": {},
   "outputs": [
    {
     "name": "stdout",
     "output_type": "stream",
     "text": [
      "Number of rows: 1205\n"
     ]
    }
   ],
   "source": [
    "df_host = df_host[ df_host.duplicated('host_id') == False ]\n",
    "\n",
    "print(\"Number of rows: %i\" %df_host.shape[0])"
   ]
  },
  {
   "cell_type": "markdown",
   "metadata": {},
   "source": [
    "The next we do is preparing the dataset so they will have a proper data type in the database. You may have noticed that some columns should be have a boolean or logical data type, such as the `host_is_superhost`, `host_has_profile_pic`, and `host_identity_verified`. They contain string *t* if the value is *True* and *f* if the value is *False*. We will transform the data to the proper data type."
   ]
  },
  {
   "cell_type": "code",
   "execution_count": 7,
   "metadata": {},
   "outputs": [],
   "source": [
    "for col in ['host_is_superhost', 'host_has_profile_pic', 'host_identity_verified']:\n",
    "    \n",
    "    df_host[col] = list(map(lambda x: True if x == \"t\" else False if x == \"f\" else np.nan, \n",
    "                            df_host[col]\n",
    "                           )\n",
    "                       )"
   ]
  },
  {
   "cell_type": "markdown",
   "metadata": {},
   "source": [
    "The next thing that I want to clean up is the `host_verification` column that is in a list format like following sample."
   ]
  },
  {
   "cell_type": "code",
   "execution_count": 8,
   "metadata": {},
   "outputs": [
    {
     "data": {
      "text/plain": [
       "0    ['email', 'phone', 'facebook', 'reviews', 'jum...\n",
       "1    ['email', 'phone', 'facebook', 'reviews', 'off...\n",
       "3    ['email', 'phone', 'reviews', 'manual_offline'...\n",
       "7    ['email', 'phone', 'reviews', 'jumio', 'offlin...\n",
       "9    ['email', 'phone', 'facebook', 'reviews', 'off...\n",
       "Name: host_verifications, dtype: object"
      ]
     },
     "execution_count": 8,
     "metadata": {},
     "output_type": "execute_result"
    }
   ],
   "source": [
    "df_host['host_verifications'][0:5]"
   ]
  },
  {
   "cell_type": "markdown",
   "metadata": {},
   "source": [
    "We will clean them so they contain a simple string text. For example, the first row will be *email, phone, facebook, ...*."
   ]
  },
  {
   "cell_type": "code",
   "execution_count": 9,
   "metadata": {},
   "outputs": [
    {
     "data": {
      "text/plain": [
       "0    email, phone, facebook, reviews, jumio, offlin...\n",
       "1    email, phone, facebook, reviews, offline_gover...\n",
       "3    email, phone, reviews, manual_offline, work_email\n",
       "7    email, phone, reviews, jumio, offline_governme...\n",
       "9    email, phone, facebook, reviews, offline_gover...\n",
       "Name: host_verifications, dtype: object"
      ]
     },
     "execution_count": 9,
     "metadata": {},
     "output_type": "execute_result"
    }
   ],
   "source": [
    "# Remove square bracket and apostrophe\n",
    "df_host['host_verifications'] = list(map(lambda x: re.sub(\"[\\'\\[\\]]\", '', x), df_host['host_verifications']))\n",
    "\n",
    "df_host['host_verifications'][0:5]"
   ]
  },
  {
   "cell_type": "markdown",
   "metadata": {},
   "source": [
    "### Connect to MySQL Server\n",
    "\n",
    "After you have set up the mysql server, now you can connect into the server with python using **mysql.connector**. You need the following information from the server:\n",
    "\n",
    "- host name\n",
    "- port\n",
    "- username\n",
    "- password\n",
    "- database name"
   ]
  },
  {
   "cell_type": "code",
   "execution_count": 10,
   "metadata": {},
   "outputs": [
    {
     "name": "stdout",
     "output_type": "stream",
     "text": [
      "<mysql.connector.connection_cext.CMySQLConnection object at 0x7f18b7e29810>\n"
     ]
    }
   ],
   "source": [
    "mydb = mysql.connector.connect(\n",
    "    host = \"db4free.net\",\n",
    "    port = 3306,\n",
    "    user = \"*****\",\n",
    "    password = \"*****\",\n",
    "    database = \"*****\"\n",
    ")\n",
    "\n",
    "print(mydb)"
   ]
  },
  {
   "cell_type": "markdown",
   "metadata": {},
   "source": [
    "You can do a simple query and return a pandas dataframe directly. To see if your database contain any table, you can run the query **SHOW TABLES** like the following code. This will return a dataframe with the name of all table in your MySQL Server. "
   ]
  },
  {
   "cell_type": "code",
   "execution_count": 11,
   "metadata": {},
   "outputs": [
    {
     "data": {
      "text/html": [
       "<div>\n",
       "<style scoped>\n",
       "    .dataframe tbody tr th:only-of-type {\n",
       "        vertical-align: middle;\n",
       "    }\n",
       "\n",
       "    .dataframe tbody tr th {\n",
       "        vertical-align: top;\n",
       "    }\n",
       "\n",
       "    .dataframe thead th {\n",
       "        text-align: right;\n",
       "    }\n",
       "</style>\n",
       "<table border=\"1\" class=\"dataframe\">\n",
       "  <thead>\n",
       "    <tr style=\"text-align: right;\">\n",
       "      <th></th>\n",
       "      <th>Tables_in_airbnb_learning</th>\n",
       "    </tr>\n",
       "  </thead>\n",
       "  <tbody>\n",
       "    <tr>\n",
       "      <th>0</th>\n",
       "      <td>calendar</td>\n",
       "    </tr>\n",
       "    <tr>\n",
       "      <th>1</th>\n",
       "      <td>host_info</td>\n",
       "    </tr>\n",
       "    <tr>\n",
       "      <th>2</th>\n",
       "      <td>listing</td>\n",
       "    </tr>\n",
       "    <tr>\n",
       "      <th>3</th>\n",
       "      <td>review</td>\n",
       "    </tr>\n",
       "    <tr>\n",
       "      <th>4</th>\n",
       "      <td>reviewer</td>\n",
       "    </tr>\n",
       "  </tbody>\n",
       "</table>\n",
       "</div>"
      ],
      "text/plain": [
       "  Tables_in_airbnb_learning\n",
       "0                  calendar\n",
       "1                 host_info\n",
       "2                   listing\n",
       "3                    review\n",
       "4                  reviewer"
      ]
     },
     "execution_count": 11,
     "metadata": {},
     "output_type": "execute_result"
    }
   ],
   "source": [
    "pd.read_sql(\"SHOW TABLES\", mydb)"
   ]
  },
  {
   "cell_type": "markdown",
   "metadata": {},
   "source": [
    "### Create Host Table\n",
    "\n",
    "We will start creating a table for the database. Since there is no numeric or decimal value from the host data, we will assign all numeric value into integer. The next thing we need to do is to design a proper maximum number of characters for the string text columns. We will check the maximum length of each string column in the host dataset."
   ]
  },
  {
   "cell_type": "code",
   "execution_count": 12,
   "metadata": {},
   "outputs": [],
   "source": [
    "# Function to check maximum character length\n",
    "def check_char(data):\n",
    "    print(\"Maximum Character Length\")\n",
    "    \n",
    "    for col in data.columns:\n",
    "        char_length = list(map(lambda x: len( str(x) ), data[col]))\n",
    "        print(col + \": %i\" %np.max(char_length))"
   ]
  },
  {
   "cell_type": "code",
   "execution_count": 13,
   "metadata": {},
   "outputs": [
    {
     "name": "stdout",
     "output_type": "stream",
     "text": [
      "Maximum Character Length\n",
      "host_url: 43\n",
      "host_name: 35\n",
      "host_since: 10\n",
      "host_location: 183\n",
      "host_about: 2858\n",
      "host_response_time: 18\n",
      "host_response_rate: 4\n",
      "host_acceptance_rate: 4\n",
      "host_is_superhost: 5\n",
      "host_thumbnail_url: 106\n",
      "host_picture_url: 109\n",
      "host_neighbourhood: 18\n",
      "host_verifications: 134\n",
      "host_has_profile_pic: 5\n",
      "host_identity_verified: 5\n"
     ]
    }
   ],
   "source": [
    "check_char(df_host.select_dtypes('object'))"
   ]
  },
  {
   "cell_type": "markdown",
   "metadata": {},
   "source": [
    "Now we can create a table named `host_info` with the following data type:\n",
    "\n",
    "- INT: integer, for ID, quantity, or other non-decimal numeric value\n",
    "- VARCHAR(n): String or character with maximum length of n\n",
    "- DATE: date (format in YYYY-MM-DD)\n",
    "- BOOLEAN: logical (TRUE or FALSE)\n",
    "- column `host_id` as primary key\n",
    "\n",
    "Make sure the number of character (n) in VARCHAR is bigger than the length of your data characters. For example, the maximum length of `host_location` is 183, so you can create a VARCHAR(200) or VARCHAR(500) just to make sure. \n",
    "\n",
    "For more detailed information about different data type allowed by MySQL, you can check the following [manuals](https://dev.mysql.com/doc/refman/8.0/en/data-types.html).\n",
    "\n",
    "The query for creating a table has the following template:\n",
    "\n",
    "*CREATE TABLE table_name (column_name_1 data_type_1, column_name_1 data_type_1, ....)*"
   ]
  },
  {
   "cell_type": "code",
   "execution_count": 14,
   "metadata": {},
   "outputs": [
    {
     "data": {
      "text/plain": [
       "'\\nCREATE TABLE host_info(\\nhost_id INT,\\nhost_url VARCHAR(50),\\nhost_name VARCHAR(100),\\nhost_since DATE,\\nhost_location VARCHAR(500),\\nhost_about VARCHAR(5000),\\nhost_response_time VARCHAR(50),\\nhost_response_rate VARCHAR(50),\\nhost_acceptance_rate VARCHAR(50),\\nhost_is_superhost BOOLEAN,\\nhost_thumbnail_url VARCHAR(500),\\nhost_picture_url VARCHAR(500),\\nhost_neighbourhood VARCHAR(50),\\nhost_listings_count INT,\\nhost_total_listings_count INT,\\nhost_verifications VARCHAR(500),\\nhost_has_profile_pic BOOLEAN,\\nhost_identity_verified BOOLEAN,\\ncalculated_host_listings_count INT,\\ncalculated_host_listings_count_entire_homes INT,\\ncalculated_host_listings_count_private_rooms INT,\\ncalculated_host_listings_count_shared_rooms INT,\\nPRIMARY KEY(host_id)\\n)\\n'"
      ]
     },
     "execution_count": 14,
     "metadata": {},
     "output_type": "execute_result"
    }
   ],
   "source": [
    "query = \"\"\"\n",
    "CREATE TABLE host_info(\n",
    "host_id INT,\n",
    "host_url VARCHAR(50),\n",
    "host_name VARCHAR(100),\n",
    "host_since DATE,\n",
    "host_location VARCHAR(500),\n",
    "host_about VARCHAR(5000),\n",
    "host_response_time VARCHAR(50),\n",
    "host_response_rate VARCHAR(50),\n",
    "host_acceptance_rate VARCHAR(50),\n",
    "host_is_superhost BOOLEAN,\n",
    "host_thumbnail_url VARCHAR(500),\n",
    "host_picture_url VARCHAR(500),\n",
    "host_neighbourhood VARCHAR(50),\n",
    "host_listings_count INT,\n",
    "host_total_listings_count INT,\n",
    "host_verifications VARCHAR(500),\n",
    "host_has_profile_pic BOOLEAN,\n",
    "host_identity_verified BOOLEAN,\n",
    "calculated_host_listings_count INT,\n",
    "calculated_host_listings_count_entire_homes INT,\n",
    "calculated_host_listings_count_private_rooms INT,\n",
    "calculated_host_listings_count_shared_rooms INT,\n",
    "PRIMARY KEY(host_id)\n",
    ")\n",
    "\"\"\"\n",
    "\n",
    "query"
   ]
  },
  {
   "cell_type": "markdown",
   "metadata": {},
   "source": [
    "After you have created the SQL query, you can execute them by creating a cursor from your connection (`mydb`) object."
   ]
  },
  {
   "cell_type": "raw",
   "metadata": {},
   "source": [
    "# Create cursor\n",
    "cursor = mydb.cursor()\n",
    "\n",
    "# Run query\n",
    "cursor.execute(query)\n",
    "\n",
    "# Commit for creating table or manipulating table structure\n",
    "mydb.commit()\n",
    "\n",
    "# Close cursor\n",
    "cursor.close()"
   ]
  },
  {
   "cell_type": "markdown",
   "metadata": {},
   "source": [
    "You can use `read_sql()` function to check the description of your table from MySQL server. Some information about the output:\n",
    "\n",
    "- Field: name of the column\n",
    "- Type: data type\n",
    "- Null: is missing value allowed?\n",
    "- Key: is this column a primary key (PRI) or a foreign key?"
   ]
  },
  {
   "cell_type": "code",
   "execution_count": 15,
   "metadata": {},
   "outputs": [
    {
     "data": {
      "text/html": [
       "<div>\n",
       "<style scoped>\n",
       "    .dataframe tbody tr th:only-of-type {\n",
       "        vertical-align: middle;\n",
       "    }\n",
       "\n",
       "    .dataframe tbody tr th {\n",
       "        vertical-align: top;\n",
       "    }\n",
       "\n",
       "    .dataframe thead th {\n",
       "        text-align: right;\n",
       "    }\n",
       "</style>\n",
       "<table border=\"1\" class=\"dataframe\">\n",
       "  <thead>\n",
       "    <tr style=\"text-align: right;\">\n",
       "      <th></th>\n",
       "      <th>Field</th>\n",
       "      <th>Type</th>\n",
       "      <th>Null</th>\n",
       "      <th>Key</th>\n",
       "      <th>Default</th>\n",
       "      <th>Extra</th>\n",
       "    </tr>\n",
       "  </thead>\n",
       "  <tbody>\n",
       "    <tr>\n",
       "      <th>0</th>\n",
       "      <td>host_id</td>\n",
       "      <td>b'int'</td>\n",
       "      <td>NO</td>\n",
       "      <td>PRI</td>\n",
       "      <td>None</td>\n",
       "      <td></td>\n",
       "    </tr>\n",
       "    <tr>\n",
       "      <th>1</th>\n",
       "      <td>host_url</td>\n",
       "      <td>b'varchar(50)'</td>\n",
       "      <td>YES</td>\n",
       "      <td></td>\n",
       "      <td>None</td>\n",
       "      <td></td>\n",
       "    </tr>\n",
       "    <tr>\n",
       "      <th>2</th>\n",
       "      <td>host_name</td>\n",
       "      <td>b'varchar(100)'</td>\n",
       "      <td>YES</td>\n",
       "      <td></td>\n",
       "      <td>None</td>\n",
       "      <td></td>\n",
       "    </tr>\n",
       "    <tr>\n",
       "      <th>3</th>\n",
       "      <td>host_since</td>\n",
       "      <td>b'date'</td>\n",
       "      <td>YES</td>\n",
       "      <td></td>\n",
       "      <td>None</td>\n",
       "      <td></td>\n",
       "    </tr>\n",
       "    <tr>\n",
       "      <th>4</th>\n",
       "      <td>host_location</td>\n",
       "      <td>b'varchar(500)'</td>\n",
       "      <td>YES</td>\n",
       "      <td></td>\n",
       "      <td>None</td>\n",
       "      <td></td>\n",
       "    </tr>\n",
       "    <tr>\n",
       "      <th>5</th>\n",
       "      <td>host_about</td>\n",
       "      <td>b'varchar(5000)'</td>\n",
       "      <td>YES</td>\n",
       "      <td></td>\n",
       "      <td>None</td>\n",
       "      <td></td>\n",
       "    </tr>\n",
       "    <tr>\n",
       "      <th>6</th>\n",
       "      <td>host_response_time</td>\n",
       "      <td>b'varchar(50)'</td>\n",
       "      <td>YES</td>\n",
       "      <td></td>\n",
       "      <td>None</td>\n",
       "      <td></td>\n",
       "    </tr>\n",
       "    <tr>\n",
       "      <th>7</th>\n",
       "      <td>host_response_rate</td>\n",
       "      <td>b'varchar(50)'</td>\n",
       "      <td>YES</td>\n",
       "      <td></td>\n",
       "      <td>None</td>\n",
       "      <td></td>\n",
       "    </tr>\n",
       "    <tr>\n",
       "      <th>8</th>\n",
       "      <td>host_acceptance_rate</td>\n",
       "      <td>b'varchar(50)'</td>\n",
       "      <td>YES</td>\n",
       "      <td></td>\n",
       "      <td>None</td>\n",
       "      <td></td>\n",
       "    </tr>\n",
       "    <tr>\n",
       "      <th>9</th>\n",
       "      <td>host_is_superhost</td>\n",
       "      <td>b'tinyint(1)'</td>\n",
       "      <td>YES</td>\n",
       "      <td></td>\n",
       "      <td>None</td>\n",
       "      <td></td>\n",
       "    </tr>\n",
       "    <tr>\n",
       "      <th>10</th>\n",
       "      <td>host_thumbnail_url</td>\n",
       "      <td>b'varchar(500)'</td>\n",
       "      <td>YES</td>\n",
       "      <td></td>\n",
       "      <td>None</td>\n",
       "      <td></td>\n",
       "    </tr>\n",
       "    <tr>\n",
       "      <th>11</th>\n",
       "      <td>host_picture_url</td>\n",
       "      <td>b'varchar(500)'</td>\n",
       "      <td>YES</td>\n",
       "      <td></td>\n",
       "      <td>None</td>\n",
       "      <td></td>\n",
       "    </tr>\n",
       "    <tr>\n",
       "      <th>12</th>\n",
       "      <td>host_neighbourhood</td>\n",
       "      <td>b'varchar(50)'</td>\n",
       "      <td>YES</td>\n",
       "      <td></td>\n",
       "      <td>None</td>\n",
       "      <td></td>\n",
       "    </tr>\n",
       "    <tr>\n",
       "      <th>13</th>\n",
       "      <td>host_listings_count</td>\n",
       "      <td>b'int'</td>\n",
       "      <td>YES</td>\n",
       "      <td></td>\n",
       "      <td>None</td>\n",
       "      <td></td>\n",
       "    </tr>\n",
       "    <tr>\n",
       "      <th>14</th>\n",
       "      <td>host_total_listings_count</td>\n",
       "      <td>b'int'</td>\n",
       "      <td>YES</td>\n",
       "      <td></td>\n",
       "      <td>None</td>\n",
       "      <td></td>\n",
       "    </tr>\n",
       "    <tr>\n",
       "      <th>15</th>\n",
       "      <td>host_verifications</td>\n",
       "      <td>b'varchar(500)'</td>\n",
       "      <td>YES</td>\n",
       "      <td></td>\n",
       "      <td>None</td>\n",
       "      <td></td>\n",
       "    </tr>\n",
       "    <tr>\n",
       "      <th>16</th>\n",
       "      <td>host_has_profile_pic</td>\n",
       "      <td>b'tinyint(1)'</td>\n",
       "      <td>YES</td>\n",
       "      <td></td>\n",
       "      <td>None</td>\n",
       "      <td></td>\n",
       "    </tr>\n",
       "    <tr>\n",
       "      <th>17</th>\n",
       "      <td>host_identity_verified</td>\n",
       "      <td>b'tinyint(1)'</td>\n",
       "      <td>YES</td>\n",
       "      <td></td>\n",
       "      <td>None</td>\n",
       "      <td></td>\n",
       "    </tr>\n",
       "    <tr>\n",
       "      <th>18</th>\n",
       "      <td>calculated_host_listings_count</td>\n",
       "      <td>b'int'</td>\n",
       "      <td>YES</td>\n",
       "      <td></td>\n",
       "      <td>None</td>\n",
       "      <td></td>\n",
       "    </tr>\n",
       "    <tr>\n",
       "      <th>19</th>\n",
       "      <td>calculated_host_listings_count_entire_homes</td>\n",
       "      <td>b'int'</td>\n",
       "      <td>YES</td>\n",
       "      <td></td>\n",
       "      <td>None</td>\n",
       "      <td></td>\n",
       "    </tr>\n",
       "    <tr>\n",
       "      <th>20</th>\n",
       "      <td>calculated_host_listings_count_private_rooms</td>\n",
       "      <td>b'int'</td>\n",
       "      <td>YES</td>\n",
       "      <td></td>\n",
       "      <td>None</td>\n",
       "      <td></td>\n",
       "    </tr>\n",
       "    <tr>\n",
       "      <th>21</th>\n",
       "      <td>calculated_host_listings_count_shared_rooms</td>\n",
       "      <td>b'int'</td>\n",
       "      <td>YES</td>\n",
       "      <td></td>\n",
       "      <td>None</td>\n",
       "      <td></td>\n",
       "    </tr>\n",
       "  </tbody>\n",
       "</table>\n",
       "</div>"
      ],
      "text/plain": [
       "                                           Field              Type Null  Key  \\\n",
       "0                                        host_id            b'int'   NO  PRI   \n",
       "1                                       host_url    b'varchar(50)'  YES        \n",
       "2                                      host_name   b'varchar(100)'  YES        \n",
       "3                                     host_since           b'date'  YES        \n",
       "4                                  host_location   b'varchar(500)'  YES        \n",
       "5                                     host_about  b'varchar(5000)'  YES        \n",
       "6                             host_response_time    b'varchar(50)'  YES        \n",
       "7                             host_response_rate    b'varchar(50)'  YES        \n",
       "8                           host_acceptance_rate    b'varchar(50)'  YES        \n",
       "9                              host_is_superhost     b'tinyint(1)'  YES        \n",
       "10                            host_thumbnail_url   b'varchar(500)'  YES        \n",
       "11                              host_picture_url   b'varchar(500)'  YES        \n",
       "12                            host_neighbourhood    b'varchar(50)'  YES        \n",
       "13                           host_listings_count            b'int'  YES        \n",
       "14                     host_total_listings_count            b'int'  YES        \n",
       "15                            host_verifications   b'varchar(500)'  YES        \n",
       "16                          host_has_profile_pic     b'tinyint(1)'  YES        \n",
       "17                        host_identity_verified     b'tinyint(1)'  YES        \n",
       "18                calculated_host_listings_count            b'int'  YES        \n",
       "19   calculated_host_listings_count_entire_homes            b'int'  YES        \n",
       "20  calculated_host_listings_count_private_rooms            b'int'  YES        \n",
       "21   calculated_host_listings_count_shared_rooms            b'int'  YES        \n",
       "\n",
       "   Default Extra  \n",
       "0     None        \n",
       "1     None        \n",
       "2     None        \n",
       "3     None        \n",
       "4     None        \n",
       "5     None        \n",
       "6     None        \n",
       "7     None        \n",
       "8     None        \n",
       "9     None        \n",
       "10    None        \n",
       "11    None        \n",
       "12    None        \n",
       "13    None        \n",
       "14    None        \n",
       "15    None        \n",
       "16    None        \n",
       "17    None        \n",
       "18    None        \n",
       "19    None        \n",
       "20    None        \n",
       "21    None        "
      ]
     },
     "execution_count": 15,
     "metadata": {},
     "output_type": "execute_result"
    }
   ],
   "source": [
    "pd.read_sql(\"DESCRIBE host_info\", mydb)"
   ]
  },
  {
   "cell_type": "markdown",
   "metadata": {},
   "source": [
    "If you want to check the content or the data from `host_info` table, you can use the following query, although for now the table is still empty because we don't insert anything yet into the table.\n",
    "\n",
    "\n",
    "SELECT * FROM host_info means that you want to get all columns ( * ) from host_info table.\n"
   ]
  },
  {
   "cell_type": "raw",
   "metadata": {},
   "source": [
    "query = \"SELECT * FROM host_info\"\n",
    "\n",
    "pd.read_sql(query, mydb)"
   ]
  },
  {
   "cell_type": "markdown",
   "metadata": {},
   "source": [
    "If for some reason you want to delete the table, you can run the following SQL query:\n",
    "\n",
    "*DROP TABLE table_name*"
   ]
  },
  {
   "cell_type": "raw",
   "metadata": {},
   "source": [
    "query = \"\"\"\n",
    "DROP TABLE host_info\n",
    "\"\"\"\n",
    "\n",
    "cursor = mydb.cursor()\n",
    "cursor.execute(query)\n",
    "mydb.commit()\n",
    "cursor.close()"
   ]
  },
  {
   "cell_type": "markdown",
   "metadata": {},
   "source": [
    "### Insert Data to Host Table\n",
    "\n",
    "Let's start inserting data into MySQL server. The generic formula to insert data into the table is as follows:\n",
    "\n",
    "*INSERT INTO table_name (column_name) VALUES (value_for_each_column)*\n",
    "\n",
    "For example, if you have a table named **customer** that has `reviewer_id` and `reviewer_name` column, you can insert a row with the following query:\n",
    "\n",
    "*INSERT INTO customer (reviewer_id, reviewer_name) VALUES (123, 'John Doe')*\n",
    "\n",
    "So we need to insert the name of the column and the respective value for each column. Let's start by preparing the column name into a single string."
   ]
  },
  {
   "cell_type": "code",
   "execution_count": 16,
   "metadata": {},
   "outputs": [
    {
     "data": {
      "text/plain": [
       "'host_id,host_url,host_name,host_since,host_location,host_about,host_response_time,host_response_rate,host_acceptance_rate,host_is_superhost,host_thumbnail_url,host_picture_url,host_neighbourhood,host_listings_count,host_total_listings_count,host_verifications,host_has_profile_pic,host_identity_verified,calculated_host_listings_count,calculated_host_listings_count_entire_homes,calculated_host_listings_count_private_rooms,calculated_host_listings_count_shared_rooms'"
      ]
     },
     "execution_count": 16,
     "metadata": {},
     "output_type": "execute_result"
    }
   ],
   "source": [
    "# Get column name\n",
    "column_name = df_host.columns.to_list()\n",
    "\n",
    "# Convert column name to single string \n",
    "column_name = \",\".join(x for x in column_name)\n",
    "\n",
    "column_name"
   ]
  },
  {
   "cell_type": "markdown",
   "metadata": {},
   "source": [
    "Next, we can prepare the value into a single string for each row. For example, the following is the input for the first row of the host data."
   ]
  },
  {
   "cell_type": "code",
   "execution_count": 17,
   "metadata": {},
   "outputs": [
    {
     "data": {
      "text/plain": [
       "'266763, https://www.airbnb.com/users/show/266763, Francesca, 2010-10-20, Singapore, I am a private tutor by profession. My husband and I are simple easy going folks.\\r\\nWe have well mannered cats.Welcome to our home. I am sure you will find our home pleasant, clean and comfortable.\\r\\nPerhaps if you tell us a little about yourself, we can try to make your stay more enjoyable and comfortable.Once again, welcome!!!, within an hour, 100%, nan, False, https://a0.muscache.com/im/pictures/user/5c755ad6-c678-4e7f-bd6c-0ca8a8dec274.jpg?aki_policy=profile_small, https://a0.muscache.com/im/pictures/user/5c755ad6-c678-4e7f-bd6c-0ca8a8dec274.jpg?aki_policy=profile_x_medium, Woodlands, 2.0, 2.0, email, phone, facebook, reviews, jumio, offline_government_id, selfie, government_id, identity_manual, True, True, 2, 0, 2, 0'"
      ]
     },
     "execution_count": 17,
     "metadata": {},
     "output_type": "execute_result"
    }
   ],
   "source": [
    "\", \".join(str(x) for x in df_host.iloc[0])"
   ]
  },
  {
   "cell_type": "markdown",
   "metadata": {},
   "source": [
    "Just like when you read a csv file, an input for a single column is separated by comma (,) value by default. For example, input for the first column `host_id` is 266763, input for the second column is the string for `host_url`, etc. However, you may notice that at the middle of the string we have an extra comma from the `host_verifications` (email, phone, facebook) which should go into a single column. We need to clean the string so they can fit properly to how the SQL will read the data.\n",
    "\n",
    "To get a clean values, we need to process the string column first with the following rules:\n",
    "\n",
    "- A string should be started and ended with quotation mark (\"\"), e.g. \"email, phone, facebook\", \"Fransesca\"\n",
    "- Missing values (NaN) should not be quoted and should be transformed to NULL for SQL\n",
    "- Logical value should not be quoted\n",
    "\n",
    "To quickly clean our data, we will define a function that will help us."
   ]
  },
  {
   "cell_type": "code",
   "execution_count": 18,
   "metadata": {},
   "outputs": [],
   "source": [
    "def clean_char(data):\n",
    "    \n",
    "    # Replace None with numpy.nan\n",
    "    data.fillna(value=np.nan, inplace = True)\n",
    "    \n",
    "    for col in data.select_dtypes('object').columns:\n",
    "        \n",
    "        # Get index with no missing values\n",
    "        non_na = data[col][ data[col].isna() == False ].index\n",
    "        \n",
    "        # Change quotation mark with apostrophe\n",
    "        data.loc[non_na, col] = list(map(lambda x: re.sub('\"', \"'\", str(x)), data.loc[non_na, col] ))\n",
    "        \n",
    "        # Add quotation mark at the start and end of string\n",
    "        data.loc[non_na, col] = list(map(lambda x: '\"' + x + '\"', data.loc[non_na, col]))\n",
    "               \n",
    "        # Remove quotation mark from logical value (True and False)\n",
    "        data.loc[non_na, col] = list(map(lambda x: re.sub('\"True\"', 'True', x), data.loc[non_na, col]))\n",
    "        data.loc[non_na, col] = list(map(lambda x: re.sub('\"False\"', 'False', x), data.loc[non_na, col]))\n",
    "        \n",
    "    return(data)"
   ]
  },
  {
   "cell_type": "markdown",
   "metadata": {},
   "source": [
    "Let's apply the function to our host data."
   ]
  },
  {
   "cell_type": "code",
   "execution_count": 19,
   "metadata": {},
   "outputs": [],
   "source": [
    "df_host = clean_char(df_host)"
   ]
  },
  {
   "cell_type": "code",
   "execution_count": 20,
   "metadata": {},
   "outputs": [
    {
     "data": {
      "text/html": [
       "<div>\n",
       "<style scoped>\n",
       "    .dataframe tbody tr th:only-of-type {\n",
       "        vertical-align: middle;\n",
       "    }\n",
       "\n",
       "    .dataframe tbody tr th {\n",
       "        vertical-align: top;\n",
       "    }\n",
       "\n",
       "    .dataframe thead th {\n",
       "        text-align: right;\n",
       "    }\n",
       "</style>\n",
       "<table border=\"1\" class=\"dataframe\">\n",
       "  <thead>\n",
       "    <tr style=\"text-align: right;\">\n",
       "      <th></th>\n",
       "      <th>host_id</th>\n",
       "      <th>host_url</th>\n",
       "      <th>host_name</th>\n",
       "      <th>host_since</th>\n",
       "      <th>host_location</th>\n",
       "      <th>host_about</th>\n",
       "      <th>host_response_time</th>\n",
       "      <th>host_response_rate</th>\n",
       "      <th>host_acceptance_rate</th>\n",
       "      <th>host_is_superhost</th>\n",
       "      <th>...</th>\n",
       "      <th>host_neighbourhood</th>\n",
       "      <th>host_listings_count</th>\n",
       "      <th>host_total_listings_count</th>\n",
       "      <th>host_verifications</th>\n",
       "      <th>host_has_profile_pic</th>\n",
       "      <th>host_identity_verified</th>\n",
       "      <th>calculated_host_listings_count</th>\n",
       "      <th>calculated_host_listings_count_entire_homes</th>\n",
       "      <th>calculated_host_listings_count_private_rooms</th>\n",
       "      <th>calculated_host_listings_count_shared_rooms</th>\n",
       "    </tr>\n",
       "  </thead>\n",
       "  <tbody>\n",
       "    <tr>\n",
       "      <th>0</th>\n",
       "      <td>266763</td>\n",
       "      <td>\"https://www.airbnb.com/users/show/266763\"</td>\n",
       "      <td>\"Francesca\"</td>\n",
       "      <td>\"2010-10-20\"</td>\n",
       "      <td>\"Singapore\"</td>\n",
       "      <td>\"I am a private tutor by profession. My husban...</td>\n",
       "      <td>\"within an hour\"</td>\n",
       "      <td>\"100%\"</td>\n",
       "      <td>NaN</td>\n",
       "      <td>False</td>\n",
       "      <td>...</td>\n",
       "      <td>\"Woodlands\"</td>\n",
       "      <td>2.0</td>\n",
       "      <td>2.0</td>\n",
       "      <td>\"email, phone, facebook, reviews, jumio, offli...</td>\n",
       "      <td>True</td>\n",
       "      <td>True</td>\n",
       "      <td>2</td>\n",
       "      <td>0</td>\n",
       "      <td>2</td>\n",
       "      <td>0</td>\n",
       "    </tr>\n",
       "    <tr>\n",
       "      <th>1</th>\n",
       "      <td>227796</td>\n",
       "      <td>\"https://www.airbnb.com/users/show/227796\"</td>\n",
       "      <td>\"Sujatha\"</td>\n",
       "      <td>\"2010-09-08\"</td>\n",
       "      <td>\"Singapore, Singapore\"</td>\n",
       "      <td>\"I am a working professional, living in Singap...</td>\n",
       "      <td>NaN</td>\n",
       "      <td>NaN</td>\n",
       "      <td>NaN</td>\n",
       "      <td>False</td>\n",
       "      <td>...</td>\n",
       "      <td>\"Bukit Timah\"</td>\n",
       "      <td>1.0</td>\n",
       "      <td>1.0</td>\n",
       "      <td>\"email, phone, facebook, reviews, offline_gove...</td>\n",
       "      <td>True</td>\n",
       "      <td>True</td>\n",
       "      <td>1</td>\n",
       "      <td>0</td>\n",
       "      <td>1</td>\n",
       "      <td>0</td>\n",
       "    </tr>\n",
       "    <tr>\n",
       "      <th>3</th>\n",
       "      <td>367042</td>\n",
       "      <td>\"https://www.airbnb.com/users/show/367042\"</td>\n",
       "      <td>\"Belinda\"</td>\n",
       "      <td>\"2011-01-29\"</td>\n",
       "      <td>\"Singapore\"</td>\n",
       "      <td>\"Hi My name is Belinda -Housekeeper \\r\\n\\r\\nI ...</td>\n",
       "      <td>\"within a few hours\"</td>\n",
       "      <td>\"100%\"</td>\n",
       "      <td>NaN</td>\n",
       "      <td>False</td>\n",
       "      <td>...</td>\n",
       "      <td>\"Tampines\"</td>\n",
       "      <td>8.0</td>\n",
       "      <td>8.0</td>\n",
       "      <td>\"email, phone, reviews, manual_offline, work_e...</td>\n",
       "      <td>True</td>\n",
       "      <td>True</td>\n",
       "      <td>5</td>\n",
       "      <td>0</td>\n",
       "      <td>5</td>\n",
       "      <td>0</td>\n",
       "    </tr>\n",
       "    <tr>\n",
       "      <th>7</th>\n",
       "      <td>1439258</td>\n",
       "      <td>\"https://www.airbnb.com/users/show/1439258\"</td>\n",
       "      <td>\"Joyce\"</td>\n",
       "      <td>\"2011-11-24\"</td>\n",
       "      <td>\"Singapore\"</td>\n",
       "      <td>\"K2 Guesthouse is designed for guests who want...</td>\n",
       "      <td>\"within a few hours\"</td>\n",
       "      <td>\"95%\"</td>\n",
       "      <td>\"100%\"</td>\n",
       "      <td>False</td>\n",
       "      <td>...</td>\n",
       "      <td>\"Bukit Merah\"</td>\n",
       "      <td>49.0</td>\n",
       "      <td>49.0</td>\n",
       "      <td>\"email, phone, reviews, jumio, offline_governm...</td>\n",
       "      <td>True</td>\n",
       "      <td>True</td>\n",
       "      <td>47</td>\n",
       "      <td>0</td>\n",
       "      <td>47</td>\n",
       "      <td>0</td>\n",
       "    </tr>\n",
       "    <tr>\n",
       "      <th>9</th>\n",
       "      <td>1521514</td>\n",
       "      <td>\"https://www.airbnb.com/users/show/1521514\"</td>\n",
       "      <td>\"Elizabeth\"</td>\n",
       "      <td>\"2011-12-20\"</td>\n",
       "      <td>\"Singapore\"</td>\n",
       "      <td>\"Hello !\\r\\nI am Elizabeth from Singapore.\\r\\n...</td>\n",
       "      <td>\"within a few hours\"</td>\n",
       "      <td>\"100%\"</td>\n",
       "      <td>NaN</td>\n",
       "      <td>False</td>\n",
       "      <td>...</td>\n",
       "      <td>\"Central Area\"</td>\n",
       "      <td>6.0</td>\n",
       "      <td>6.0</td>\n",
       "      <td>\"email, phone, facebook, reviews, offline_gove...</td>\n",
       "      <td>True</td>\n",
       "      <td>True</td>\n",
       "      <td>7</td>\n",
       "      <td>1</td>\n",
       "      <td>6</td>\n",
       "      <td>0</td>\n",
       "    </tr>\n",
       "    <tr>\n",
       "      <th>...</th>\n",
       "      <td>...</td>\n",
       "      <td>...</td>\n",
       "      <td>...</td>\n",
       "      <td>...</td>\n",
       "      <td>...</td>\n",
       "      <td>...</td>\n",
       "      <td>...</td>\n",
       "      <td>...</td>\n",
       "      <td>...</td>\n",
       "      <td>...</td>\n",
       "      <td>...</td>\n",
       "      <td>...</td>\n",
       "      <td>...</td>\n",
       "      <td>...</td>\n",
       "      <td>...</td>\n",
       "      <td>...</td>\n",
       "      <td>...</td>\n",
       "      <td>...</td>\n",
       "      <td>...</td>\n",
       "      <td>...</td>\n",
       "      <td>...</td>\n",
       "    </tr>\n",
       "    <tr>\n",
       "      <th>4374</th>\n",
       "      <td>384032484</td>\n",
       "      <td>\"https://www.airbnb.com/users/show/384032484\"</td>\n",
       "      <td>\"Glariant\"</td>\n",
       "      <td>\"2021-01-11\"</td>\n",
       "      <td>\"SG\"</td>\n",
       "      <td>NaN</td>\n",
       "      <td>\"within an hour\"</td>\n",
       "      <td>\"100%\"</td>\n",
       "      <td>NaN</td>\n",
       "      <td>False</td>\n",
       "      <td>...</td>\n",
       "      <td>\"Kallang\"</td>\n",
       "      <td>0.0</td>\n",
       "      <td>0.0</td>\n",
       "      <td>\"email, phone\"</td>\n",
       "      <td>True</td>\n",
       "      <td>False</td>\n",
       "      <td>1</td>\n",
       "      <td>0</td>\n",
       "      <td>1</td>\n",
       "      <td>0</td>\n",
       "    </tr>\n",
       "    <tr>\n",
       "      <th>4375</th>\n",
       "      <td>61893984</td>\n",
       "      <td>\"https://www.airbnb.com/users/show/61893984\"</td>\n",
       "      <td>\"Derrick\"</td>\n",
       "      <td>\"2016-03-07\"</td>\n",
       "      <td>\"Singapore\"</td>\n",
       "      <td>NaN</td>\n",
       "      <td>NaN</td>\n",
       "      <td>NaN</td>\n",
       "      <td>NaN</td>\n",
       "      <td>False</td>\n",
       "      <td>...</td>\n",
       "      <td>\"Jurong East\"</td>\n",
       "      <td>0.0</td>\n",
       "      <td>0.0</td>\n",
       "      <td>\"phone, facebook, offline_government_id, gover...</td>\n",
       "      <td>True</td>\n",
       "      <td>False</td>\n",
       "      <td>1</td>\n",
       "      <td>0</td>\n",
       "      <td>1</td>\n",
       "      <td>0</td>\n",
       "    </tr>\n",
       "    <tr>\n",
       "      <th>4377</th>\n",
       "      <td>393078492</td>\n",
       "      <td>\"https://www.airbnb.com/users/show/393078492\"</td>\n",
       "      <td>\"Cc\"</td>\n",
       "      <td>\"2021-03-18\"</td>\n",
       "      <td>\"Singapore\"</td>\n",
       "      <td>NaN</td>\n",
       "      <td>NaN</td>\n",
       "      <td>NaN</td>\n",
       "      <td>\"100%\"</td>\n",
       "      <td>False</td>\n",
       "      <td>...</td>\n",
       "      <td>\"Kallang\"</td>\n",
       "      <td>1.0</td>\n",
       "      <td>1.0</td>\n",
       "      <td>\"phone\"</td>\n",
       "      <td>True</td>\n",
       "      <td>True</td>\n",
       "      <td>1</td>\n",
       "      <td>1</td>\n",
       "      <td>0</td>\n",
       "      <td>0</td>\n",
       "    </tr>\n",
       "    <tr>\n",
       "      <th>4383</th>\n",
       "      <td>393244617</td>\n",
       "      <td>\"https://www.airbnb.com/users/show/393244617\"</td>\n",
       "      <td>\"Wesley\"</td>\n",
       "      <td>\"2021-03-19\"</td>\n",
       "      <td>\"Singapore\"</td>\n",
       "      <td>\"Entrepreneur, Song Writer. Love travel, Boxin...</td>\n",
       "      <td>NaN</td>\n",
       "      <td>NaN</td>\n",
       "      <td>NaN</td>\n",
       "      <td>False</td>\n",
       "      <td>...</td>\n",
       "      <td>\"Yau Ma Tei\"</td>\n",
       "      <td>1.0</td>\n",
       "      <td>1.0</td>\n",
       "      <td>\"email, phone, work_email\"</td>\n",
       "      <td>True</td>\n",
       "      <td>True</td>\n",
       "      <td>1</td>\n",
       "      <td>1</td>\n",
       "      <td>0</td>\n",
       "      <td>0</td>\n",
       "    </tr>\n",
       "    <tr>\n",
       "      <th>4386</th>\n",
       "      <td>9773137</td>\n",
       "      <td>\"https://www.airbnb.com/users/show/9773137\"</td>\n",
       "      <td>\"Chu Hui\"</td>\n",
       "      <td>\"2013-11-02\"</td>\n",
       "      <td>\"Singapore, Singapore\"</td>\n",
       "      <td>\"A girl from Singapore.\\r\\nLove to travel :-)\"</td>\n",
       "      <td>NaN</td>\n",
       "      <td>NaN</td>\n",
       "      <td>NaN</td>\n",
       "      <td>False</td>\n",
       "      <td>...</td>\n",
       "      <td>\"Tanglin\"</td>\n",
       "      <td>0.0</td>\n",
       "      <td>0.0</td>\n",
       "      <td>\"email, phone, reviews, jumio, government_id\"</td>\n",
       "      <td>True</td>\n",
       "      <td>True</td>\n",
       "      <td>1</td>\n",
       "      <td>1</td>\n",
       "      <td>0</td>\n",
       "      <td>0</td>\n",
       "    </tr>\n",
       "  </tbody>\n",
       "</table>\n",
       "<p>1205 rows × 22 columns</p>\n",
       "</div>"
      ],
      "text/plain": [
       "        host_id                                       host_url    host_name  \\\n",
       "0        266763     \"https://www.airbnb.com/users/show/266763\"  \"Francesca\"   \n",
       "1        227796     \"https://www.airbnb.com/users/show/227796\"    \"Sujatha\"   \n",
       "3        367042     \"https://www.airbnb.com/users/show/367042\"    \"Belinda\"   \n",
       "7       1439258    \"https://www.airbnb.com/users/show/1439258\"      \"Joyce\"   \n",
       "9       1521514    \"https://www.airbnb.com/users/show/1521514\"  \"Elizabeth\"   \n",
       "...         ...                                            ...          ...   \n",
       "4374  384032484  \"https://www.airbnb.com/users/show/384032484\"   \"Glariant\"   \n",
       "4375   61893984   \"https://www.airbnb.com/users/show/61893984\"    \"Derrick\"   \n",
       "4377  393078492  \"https://www.airbnb.com/users/show/393078492\"         \"Cc\"   \n",
       "4383  393244617  \"https://www.airbnb.com/users/show/393244617\"     \"Wesley\"   \n",
       "4386    9773137    \"https://www.airbnb.com/users/show/9773137\"    \"Chu Hui\"   \n",
       "\n",
       "        host_since           host_location  \\\n",
       "0     \"2010-10-20\"             \"Singapore\"   \n",
       "1     \"2010-09-08\"  \"Singapore, Singapore\"   \n",
       "3     \"2011-01-29\"             \"Singapore\"   \n",
       "7     \"2011-11-24\"             \"Singapore\"   \n",
       "9     \"2011-12-20\"             \"Singapore\"   \n",
       "...            ...                     ...   \n",
       "4374  \"2021-01-11\"                    \"SG\"   \n",
       "4375  \"2016-03-07\"             \"Singapore\"   \n",
       "4377  \"2021-03-18\"             \"Singapore\"   \n",
       "4383  \"2021-03-19\"             \"Singapore\"   \n",
       "4386  \"2013-11-02\"  \"Singapore, Singapore\"   \n",
       "\n",
       "                                             host_about    host_response_time  \\\n",
       "0     \"I am a private tutor by profession. My husban...      \"within an hour\"   \n",
       "1     \"I am a working professional, living in Singap...                   NaN   \n",
       "3     \"Hi My name is Belinda -Housekeeper \\r\\n\\r\\nI ...  \"within a few hours\"   \n",
       "7     \"K2 Guesthouse is designed for guests who want...  \"within a few hours\"   \n",
       "9     \"Hello !\\r\\nI am Elizabeth from Singapore.\\r\\n...  \"within a few hours\"   \n",
       "...                                                 ...                   ...   \n",
       "4374                                                NaN      \"within an hour\"   \n",
       "4375                                                NaN                   NaN   \n",
       "4377                                                NaN                   NaN   \n",
       "4383  \"Entrepreneur, Song Writer. Love travel, Boxin...                   NaN   \n",
       "4386     \"A girl from Singapore.\\r\\nLove to travel :-)\"                   NaN   \n",
       "\n",
       "     host_response_rate host_acceptance_rate host_is_superhost  ...  \\\n",
       "0                \"100%\"                  NaN             False  ...   \n",
       "1                   NaN                  NaN             False  ...   \n",
       "3                \"100%\"                  NaN             False  ...   \n",
       "7                 \"95%\"               \"100%\"             False  ...   \n",
       "9                \"100%\"                  NaN             False  ...   \n",
       "...                 ...                  ...               ...  ...   \n",
       "4374             \"100%\"                  NaN             False  ...   \n",
       "4375                NaN                  NaN             False  ...   \n",
       "4377                NaN               \"100%\"             False  ...   \n",
       "4383                NaN                  NaN             False  ...   \n",
       "4386                NaN                  NaN             False  ...   \n",
       "\n",
       "     host_neighbourhood host_listings_count host_total_listings_count  \\\n",
       "0           \"Woodlands\"                 2.0                       2.0   \n",
       "1         \"Bukit Timah\"                 1.0                       1.0   \n",
       "3            \"Tampines\"                 8.0                       8.0   \n",
       "7         \"Bukit Merah\"                49.0                      49.0   \n",
       "9        \"Central Area\"                 6.0                       6.0   \n",
       "...                 ...                 ...                       ...   \n",
       "4374          \"Kallang\"                 0.0                       0.0   \n",
       "4375      \"Jurong East\"                 0.0                       0.0   \n",
       "4377          \"Kallang\"                 1.0                       1.0   \n",
       "4383       \"Yau Ma Tei\"                 1.0                       1.0   \n",
       "4386          \"Tanglin\"                 0.0                       0.0   \n",
       "\n",
       "                                     host_verifications  host_has_profile_pic  \\\n",
       "0     \"email, phone, facebook, reviews, jumio, offli...                  True   \n",
       "1     \"email, phone, facebook, reviews, offline_gove...                  True   \n",
       "3     \"email, phone, reviews, manual_offline, work_e...                  True   \n",
       "7     \"email, phone, reviews, jumio, offline_governm...                  True   \n",
       "9     \"email, phone, facebook, reviews, offline_gove...                  True   \n",
       "...                                                 ...                   ...   \n",
       "4374                                     \"email, phone\"                  True   \n",
       "4375  \"phone, facebook, offline_government_id, gover...                  True   \n",
       "4377                                            \"phone\"                  True   \n",
       "4383                         \"email, phone, work_email\"                  True   \n",
       "4386      \"email, phone, reviews, jumio, government_id\"                  True   \n",
       "\n",
       "     host_identity_verified calculated_host_listings_count  \\\n",
       "0                      True                              2   \n",
       "1                      True                              1   \n",
       "3                      True                              5   \n",
       "7                      True                             47   \n",
       "9                      True                              7   \n",
       "...                     ...                            ...   \n",
       "4374                  False                              1   \n",
       "4375                  False                              1   \n",
       "4377                   True                              1   \n",
       "4383                   True                              1   \n",
       "4386                   True                              1   \n",
       "\n",
       "     calculated_host_listings_count_entire_homes  \\\n",
       "0                                              0   \n",
       "1                                              0   \n",
       "3                                              0   \n",
       "7                                              0   \n",
       "9                                              1   \n",
       "...                                          ...   \n",
       "4374                                           0   \n",
       "4375                                           0   \n",
       "4377                                           1   \n",
       "4383                                           1   \n",
       "4386                                           1   \n",
       "\n",
       "      calculated_host_listings_count_private_rooms  \\\n",
       "0                                                2   \n",
       "1                                                1   \n",
       "3                                                5   \n",
       "7                                               47   \n",
       "9                                                6   \n",
       "...                                            ...   \n",
       "4374                                             1   \n",
       "4375                                             1   \n",
       "4377                                             0   \n",
       "4383                                             0   \n",
       "4386                                             0   \n",
       "\n",
       "      calculated_host_listings_count_shared_rooms  \n",
       "0                                               0  \n",
       "1                                               0  \n",
       "3                                               0  \n",
       "7                                               0  \n",
       "9                                               0  \n",
       "...                                           ...  \n",
       "4374                                            0  \n",
       "4375                                            0  \n",
       "4377                                            0  \n",
       "4383                                            0  \n",
       "4386                                            0  \n",
       "\n",
       "[1205 rows x 22 columns]"
      ]
     },
     "execution_count": 20,
     "metadata": {},
     "output_type": "execute_result"
    }
   ],
   "source": [
    "df_host"
   ]
  },
  {
   "cell_type": "markdown",
   "metadata": {},
   "source": [
    "Let's check the input value for the second observation."
   ]
  },
  {
   "cell_type": "code",
   "execution_count": 21,
   "metadata": {},
   "outputs": [
    {
     "data": {
      "text/plain": [
       "'227796, \"https://www.airbnb.com/users/show/227796\", \"Sujatha\", \"2010-09-08\", \"Singapore, Singapore\", \"I am a working professional, living in Singapore with my husband & 2 daughters.  \\r\\n\\r\\n\", nan, nan, nan, False, \"https://a0.muscache.com/im/pictures/user/8fd2cddb-2795-40b8-8231-d3a34dc3a1e4.jpg?aki_policy=profile_small\", \"https://a0.muscache.com/im/pictures/user/8fd2cddb-2795-40b8-8231-d3a34dc3a1e4.jpg?aki_policy=profile_x_medium\", \"Bukit Timah\", 1.0, 1.0, \"email, phone, facebook, reviews, offline_government_id, selfie, government_id, work_email\", True, True, 1, 0, 1, 0'"
      ]
     },
     "execution_count": 21,
     "metadata": {},
     "output_type": "execute_result"
    }
   ],
   "source": [
    "# Convert value of each row into a single string\n",
    "value_data = \", \".join(str(x) for x in df_host.iloc[1])\n",
    "\n",
    "value_data"
   ]
  },
  {
   "cell_type": "markdown",
   "metadata": {},
   "source": [
    "Now you can see that even if a column has internal comma, such as the `host_verifications`, they will not be a problem because we give a quotation mark for a string so the SQL will understand that the comma will not be read as a command to fill the next column.\n",
    "\n",
    "Finally, We need to transform a missing value `nan` into explicit NULL since SQL only consisder NULL as the legitimate missing value."
   ]
  },
  {
   "cell_type": "code",
   "execution_count": 22,
   "metadata": {},
   "outputs": [
    {
     "data": {
      "text/plain": [
       "'227796, \"https://www.airbnb.com/users/show/227796\", \"Sujatha\", \"2010-09-08\", \"Singapore, Singapore\", \"I am a working professional, living in Singapore with my husband & 2 daughters.  \\r\\n\\r\\n\", NULL, NULL, NULL, False, \"https://a0.muscache.com/im/pictures/user/8fd2cddb-2795-40b8-8231-d3a34dc3a1e4.jpg?aki_policy=profile_small\", \"https://a0.muscache.com/im/pictures/user/8fd2cddb-2795-40b8-8231-d3a34dc3a1e4.jpg?aki_policy=profile_x_medium\", \"Bukit Timah\", 1.0, 1.0, \"email, phone, facebook, reviews, offline_government_id, selfie, government_id, work_email\", True, True, 1, 0, 1, 0'"
      ]
     },
     "execution_count": 22,
     "metadata": {},
     "output_type": "execute_result"
    }
   ],
   "source": [
    "# Replace missing value with explicit NULL\n",
    "value_data = re.sub('\\\\bnan\\\\b', 'NULL', value_data)\n",
    "\n",
    "value_data"
   ]
  },
  {
   "cell_type": "markdown",
   "metadata": {},
   "source": [
    "The full query for the first row is as follow. THis is the query or command to store the first observation into MySQL."
   ]
  },
  {
   "cell_type": "code",
   "execution_count": 23,
   "metadata": {},
   "outputs": [
    {
     "data": {
      "text/plain": [
       "'INSERT INTO host_info (host_id,host_url,host_name,host_since,host_location,host_about,host_response_time,host_response_rate,host_acceptance_rate,host_is_superhost,host_thumbnail_url,host_picture_url,host_neighbourhood,host_listings_count,host_total_listings_count,host_verifications,host_has_profile_pic,host_identity_verified,calculated_host_listings_count,calculated_host_listings_count_entire_homes,calculated_host_listings_count_private_rooms,calculated_host_listings_count_shared_rooms) VALUES (227796, \"https://www.airbnb.com/users/show/227796\", \"Sujatha\", \"2010-09-08\", \"Singapore, Singapore\", \"I am a working professional, living in Singapore with my husband & 2 daughters.  \\r\\n\\r\\n\", NULL, NULL, NULL, False, \"https://a0.muscache.com/im/pictures/user/8fd2cddb-2795-40b8-8231-d3a34dc3a1e4.jpg?aki_policy=profile_small\", \"https://a0.muscache.com/im/pictures/user/8fd2cddb-2795-40b8-8231-d3a34dc3a1e4.jpg?aki_policy=profile_x_medium\", \"Bukit Timah\", 1.0, 1.0, \"email, phone, facebook, reviews, offline_government_id, selfie, government_id, work_email\", True, True, 1, 0, 1, 0)'"
      ]
     },
     "execution_count": 23,
     "metadata": {},
     "output_type": "execute_result"
    }
   ],
   "source": [
    "\"INSERT INTO host_info (\" + column_name + \") VALUES (\" + value_data + \")\""
   ]
  },
  {
   "cell_type": "markdown",
   "metadata": {},
   "source": [
    "Now that you have understand how to create a query for inserting a single row of data, we will automate this process by creating a function. The following is the full code to insert multiple row of data simultaneously into MySQL. You just need to enter the initial pandas dataframe and the target table in the MySQL server.\n",
    "\n",
    "To insert multiple row to data, the SQL command template is as follows:\n",
    "\n",
    "*INSERT INTO table_name (column_1, column_2, ...)\\\n",
    "VALUES\\\n",
    "(value_row_1_column_1, value_row_1_column_2, ...),\\\n",
    "(value_row_2_column_1, value_row_2_column_2, ...),\\\n",
    "(value_row_3_column_1, value_row_3_column_2, ...)*"
   ]
  },
  {
   "cell_type": "code",
   "execution_count": 24,
   "metadata": {},
   "outputs": [],
   "source": [
    "def insert_to_sql(data, table_name):\n",
    "    \n",
    "    # Start time counter\n",
    "    start = time.time()\n",
    "    \n",
    "    # Convert column name to single string\n",
    "    column_name = data.columns.to_list()\n",
    "    column_name = \",\".join(x for x in column_name)\n",
    "    \n",
    "    # Create initial query\n",
    "    query = \"INSERT INTO \" + table_name + \" (\" + column_name + \") VALUES\" \n",
    "    \n",
    "    # Preparing data\n",
    "    \n",
    "    print(\"Preparing data\")\n",
    "    \n",
    "    # Create empty list to store input for each row\n",
    "    value_list = []\n",
    "    \n",
    "    for i in range(data.shape[0]):\n",
    "        \n",
    "        # Join all values in a single row into a single string\n",
    "        value_data = \", \".join(str(x) for x in data.iloc[i])\n",
    "    \n",
    "        # Add bracket at start and end of a single row insertion\n",
    "        value_data = \"(\" + value_data + \")\"\n",
    "    \n",
    "        # Add the string into list of input\n",
    "        value_list.append(value_data)\n",
    "\n",
    "    # Join all string into a single giant string\n",
    "    join_value = \", \".join( x for x in value_list)\n",
    "\n",
    "    # Join initial query with the data value\n",
    "    query = \" \".join( [query, join_value])\n",
    "\n",
    "    # Replace missing value with explicit NULL\n",
    "    query = re.sub(\"\\\\bnan\\\\b\", \"NULL\", query)   \n",
    "    \n",
    "    print(\"Inserting data to MySQL\")\n",
    "\n",
    "    # Execute query to MySQL\n",
    "    cursor = mydb.cursor()\n",
    "    cursor.execute(query)\n",
    "    mydb.commit()\n",
    "    cursor.close()\n",
    "    \n",
    "    # Calculate run time \n",
    "    end = time.time()\n",
    "    print('Processing time: %.4f seconds' %(end - start) )"
   ]
  },
  {
   "cell_type": "markdown",
   "metadata": {},
   "source": [
    "Let's start inserting host data into MySQL `host_info` table."
   ]
  },
  {
   "cell_type": "raw",
   "metadata": {},
   "source": [
    "insert_to_sql(df_host, 'host_info')"
   ]
  },
  {
   "cell_type": "markdown",
   "metadata": {},
   "source": [
    "If, for some reason you want to delete all the records in your MySQL table, you can run the following SQL query:\n",
    "\n",
    "*DELETE FROM table_name*"
   ]
  },
  {
   "cell_type": "raw",
   "metadata": {},
   "source": [
    "query = \"\"\"\n",
    "DELETE FROM host_info\n",
    "\"\"\"\n",
    "\n",
    "cursor = mydb.cursor()\n",
    "cursor.execute(query)\n",
    "mydb.commit()\n",
    "cursor.close()"
   ]
  },
  {
   "cell_type": "markdown",
   "metadata": {},
   "source": [
    "### Query the Host Table\n",
    "\n",
    "Now we will try to do some query to the `host_info` table.\n",
    "\n",
    "Let's try to get the first 5 observation from the `host_info` table. The **LIMIT** command is the same as **head()** in pandas and will give us the first n row."
   ]
  },
  {
   "cell_type": "code",
   "execution_count": 25,
   "metadata": {},
   "outputs": [
    {
     "data": {
      "text/html": [
       "<div>\n",
       "<style scoped>\n",
       "    .dataframe tbody tr th:only-of-type {\n",
       "        vertical-align: middle;\n",
       "    }\n",
       "\n",
       "    .dataframe tbody tr th {\n",
       "        vertical-align: top;\n",
       "    }\n",
       "\n",
       "    .dataframe thead th {\n",
       "        text-align: right;\n",
       "    }\n",
       "</style>\n",
       "<table border=\"1\" class=\"dataframe\">\n",
       "  <thead>\n",
       "    <tr style=\"text-align: right;\">\n",
       "      <th></th>\n",
       "      <th>host_id</th>\n",
       "      <th>host_url</th>\n",
       "      <th>host_name</th>\n",
       "      <th>host_since</th>\n",
       "      <th>host_location</th>\n",
       "      <th>host_about</th>\n",
       "      <th>host_response_time</th>\n",
       "      <th>host_response_rate</th>\n",
       "      <th>host_acceptance_rate</th>\n",
       "      <th>host_is_superhost</th>\n",
       "      <th>...</th>\n",
       "      <th>host_neighbourhood</th>\n",
       "      <th>host_listings_count</th>\n",
       "      <th>host_total_listings_count</th>\n",
       "      <th>host_verifications</th>\n",
       "      <th>host_has_profile_pic</th>\n",
       "      <th>host_identity_verified</th>\n",
       "      <th>calculated_host_listings_count</th>\n",
       "      <th>calculated_host_listings_count_entire_homes</th>\n",
       "      <th>calculated_host_listings_count_private_rooms</th>\n",
       "      <th>calculated_host_listings_count_shared_rooms</th>\n",
       "    </tr>\n",
       "  </thead>\n",
       "  <tbody>\n",
       "    <tr>\n",
       "      <th>0</th>\n",
       "      <td>23666</td>\n",
       "      <td>https://www.airbnb.com/users/show/23666</td>\n",
       "      <td>Maryanne</td>\n",
       "      <td>2009-06-29</td>\n",
       "      <td>Singapore</td>\n",
       "      <td>I'm a true blue Singaporean who knows my city ...</td>\n",
       "      <td>within an hour</td>\n",
       "      <td>100%</td>\n",
       "      <td>100%</td>\n",
       "      <td>1</td>\n",
       "      <td>...</td>\n",
       "      <td>Marine Parade</td>\n",
       "      <td>1</td>\n",
       "      <td>1</td>\n",
       "      <td>email, phone, reviews, offline_government_id, ...</td>\n",
       "      <td>1</td>\n",
       "      <td>1</td>\n",
       "      <td>1</td>\n",
       "      <td>1</td>\n",
       "      <td>0</td>\n",
       "      <td>0</td>\n",
       "    </tr>\n",
       "    <tr>\n",
       "      <th>1</th>\n",
       "      <td>227796</td>\n",
       "      <td>https://www.airbnb.com/users/show/227796</td>\n",
       "      <td>Sujatha</td>\n",
       "      <td>2010-09-08</td>\n",
       "      <td>Singapore, Singapore</td>\n",
       "      <td>I am a working professional, living in Singapo...</td>\n",
       "      <td>None</td>\n",
       "      <td>None</td>\n",
       "      <td>None</td>\n",
       "      <td>0</td>\n",
       "      <td>...</td>\n",
       "      <td>Bukit Timah</td>\n",
       "      <td>1</td>\n",
       "      <td>1</td>\n",
       "      <td>email, phone, facebook, reviews, offline_gover...</td>\n",
       "      <td>1</td>\n",
       "      <td>1</td>\n",
       "      <td>1</td>\n",
       "      <td>0</td>\n",
       "      <td>1</td>\n",
       "      <td>0</td>\n",
       "    </tr>\n",
       "    <tr>\n",
       "      <th>2</th>\n",
       "      <td>244567</td>\n",
       "      <td>https://www.airbnb.com/users/show/244567</td>\n",
       "      <td>Sherry</td>\n",
       "      <td>2010-09-24</td>\n",
       "      <td>San Francisco, California, United States</td>\n",
       "      <td>Just moved to Singapore! Love to travel, see f...</td>\n",
       "      <td>None</td>\n",
       "      <td>None</td>\n",
       "      <td>None</td>\n",
       "      <td>0</td>\n",
       "      <td>...</td>\n",
       "      <td>None</td>\n",
       "      <td>1</td>\n",
       "      <td>1</td>\n",
       "      <td>email, phone, reviews, kba, work_email</td>\n",
       "      <td>1</td>\n",
       "      <td>1</td>\n",
       "      <td>1</td>\n",
       "      <td>1</td>\n",
       "      <td>0</td>\n",
       "      <td>0</td>\n",
       "    </tr>\n",
       "    <tr>\n",
       "      <th>3</th>\n",
       "      <td>266763</td>\n",
       "      <td>https://www.airbnb.com/users/show/266763</td>\n",
       "      <td>Francesca</td>\n",
       "      <td>2010-10-20</td>\n",
       "      <td>Singapore</td>\n",
       "      <td>I am a private tutor by profession. My husband...</td>\n",
       "      <td>within an hour</td>\n",
       "      <td>100%</td>\n",
       "      <td>None</td>\n",
       "      <td>0</td>\n",
       "      <td>...</td>\n",
       "      <td>Woodlands</td>\n",
       "      <td>2</td>\n",
       "      <td>2</td>\n",
       "      <td>email, phone, facebook, reviews, jumio, offlin...</td>\n",
       "      <td>1</td>\n",
       "      <td>1</td>\n",
       "      <td>2</td>\n",
       "      <td>0</td>\n",
       "      <td>2</td>\n",
       "      <td>0</td>\n",
       "    </tr>\n",
       "    <tr>\n",
       "      <th>4</th>\n",
       "      <td>343908</td>\n",
       "      <td>https://www.airbnb.com/users/show/343908</td>\n",
       "      <td>Matthew</td>\n",
       "      <td>2011-01-11</td>\n",
       "      <td>Singapore</td>\n",
       "      <td>Hey there! My name is Matthew and I've been li...</td>\n",
       "      <td>None</td>\n",
       "      <td>None</td>\n",
       "      <td>None</td>\n",
       "      <td>0</td>\n",
       "      <td>...</td>\n",
       "      <td>Chinatown</td>\n",
       "      <td>2</td>\n",
       "      <td>2</td>\n",
       "      <td>email, phone, facebook, reviews, work_email</td>\n",
       "      <td>1</td>\n",
       "      <td>0</td>\n",
       "      <td>1</td>\n",
       "      <td>0</td>\n",
       "      <td>1</td>\n",
       "      <td>0</td>\n",
       "    </tr>\n",
       "  </tbody>\n",
       "</table>\n",
       "<p>5 rows × 22 columns</p>\n",
       "</div>"
      ],
      "text/plain": [
       "   host_id                                  host_url  host_name  host_since  \\\n",
       "0    23666   https://www.airbnb.com/users/show/23666   Maryanne  2009-06-29   \n",
       "1   227796  https://www.airbnb.com/users/show/227796    Sujatha  2010-09-08   \n",
       "2   244567  https://www.airbnb.com/users/show/244567     Sherry  2010-09-24   \n",
       "3   266763  https://www.airbnb.com/users/show/266763  Francesca  2010-10-20   \n",
       "4   343908  https://www.airbnb.com/users/show/343908    Matthew  2011-01-11   \n",
       "\n",
       "                              host_location  \\\n",
       "0                                 Singapore   \n",
       "1                      Singapore, Singapore   \n",
       "2  San Francisco, California, United States   \n",
       "3                                 Singapore   \n",
       "4                                 Singapore   \n",
       "\n",
       "                                          host_about host_response_time  \\\n",
       "0  I'm a true blue Singaporean who knows my city ...     within an hour   \n",
       "1  I am a working professional, living in Singapo...               None   \n",
       "2  Just moved to Singapore! Love to travel, see f...               None   \n",
       "3  I am a private tutor by profession. My husband...     within an hour   \n",
       "4  Hey there! My name is Matthew and I've been li...               None   \n",
       "\n",
       "  host_response_rate host_acceptance_rate  host_is_superhost  ...  \\\n",
       "0               100%                 100%                  1  ...   \n",
       "1               None                 None                  0  ...   \n",
       "2               None                 None                  0  ...   \n",
       "3               100%                 None                  0  ...   \n",
       "4               None                 None                  0  ...   \n",
       "\n",
       "  host_neighbourhood host_listings_count host_total_listings_count  \\\n",
       "0      Marine Parade                   1                         1   \n",
       "1        Bukit Timah                   1                         1   \n",
       "2               None                   1                         1   \n",
       "3          Woodlands                   2                         2   \n",
       "4          Chinatown                   2                         2   \n",
       "\n",
       "                                  host_verifications  host_has_profile_pic  \\\n",
       "0  email, phone, reviews, offline_government_id, ...                     1   \n",
       "1  email, phone, facebook, reviews, offline_gover...                     1   \n",
       "2             email, phone, reviews, kba, work_email                     1   \n",
       "3  email, phone, facebook, reviews, jumio, offlin...                     1   \n",
       "4        email, phone, facebook, reviews, work_email                     1   \n",
       "\n",
       "  host_identity_verified  calculated_host_listings_count  \\\n",
       "0                      1                               1   \n",
       "1                      1                               1   \n",
       "2                      1                               1   \n",
       "3                      1                               2   \n",
       "4                      0                               1   \n",
       "\n",
       "   calculated_host_listings_count_entire_homes  \\\n",
       "0                                            1   \n",
       "1                                            0   \n",
       "2                                            1   \n",
       "3                                            0   \n",
       "4                                            0   \n",
       "\n",
       "   calculated_host_listings_count_private_rooms  \\\n",
       "0                                             0   \n",
       "1                                             1   \n",
       "2                                             0   \n",
       "3                                             2   \n",
       "4                                             1   \n",
       "\n",
       "   calculated_host_listings_count_shared_rooms  \n",
       "0                                            0  \n",
       "1                                            0  \n",
       "2                                            0  \n",
       "3                                            0  \n",
       "4                                            0  \n",
       "\n",
       "[5 rows x 22 columns]"
      ]
     },
     "execution_count": 25,
     "metadata": {},
     "output_type": "execute_result"
    }
   ],
   "source": [
    "query = \"SELECT * FROM host_info LIMIT 5\"\n",
    "\n",
    "pd.read_sql(query, mydb)"
   ]
  },
  {
   "cell_type": "markdown",
   "metadata": {},
   "source": [
    "You can try to do conditional filtering of the data. For example, let's try to get the first 5 host who is considered as a superhost. To create a condition, you can use **WHERE** command."
   ]
  },
  {
   "cell_type": "code",
   "execution_count": 26,
   "metadata": {},
   "outputs": [
    {
     "data": {
      "text/html": [
       "<div>\n",
       "<style scoped>\n",
       "    .dataframe tbody tr th:only-of-type {\n",
       "        vertical-align: middle;\n",
       "    }\n",
       "\n",
       "    .dataframe tbody tr th {\n",
       "        vertical-align: top;\n",
       "    }\n",
       "\n",
       "    .dataframe thead th {\n",
       "        text-align: right;\n",
       "    }\n",
       "</style>\n",
       "<table border=\"1\" class=\"dataframe\">\n",
       "  <thead>\n",
       "    <tr style=\"text-align: right;\">\n",
       "      <th></th>\n",
       "      <th>host_id</th>\n",
       "      <th>host_url</th>\n",
       "      <th>host_name</th>\n",
       "      <th>host_since</th>\n",
       "      <th>host_location</th>\n",
       "      <th>host_about</th>\n",
       "      <th>host_response_time</th>\n",
       "      <th>host_response_rate</th>\n",
       "      <th>host_acceptance_rate</th>\n",
       "      <th>host_is_superhost</th>\n",
       "      <th>...</th>\n",
       "      <th>host_neighbourhood</th>\n",
       "      <th>host_listings_count</th>\n",
       "      <th>host_total_listings_count</th>\n",
       "      <th>host_verifications</th>\n",
       "      <th>host_has_profile_pic</th>\n",
       "      <th>host_identity_verified</th>\n",
       "      <th>calculated_host_listings_count</th>\n",
       "      <th>calculated_host_listings_count_entire_homes</th>\n",
       "      <th>calculated_host_listings_count_private_rooms</th>\n",
       "      <th>calculated_host_listings_count_shared_rooms</th>\n",
       "    </tr>\n",
       "  </thead>\n",
       "  <tbody>\n",
       "    <tr>\n",
       "      <th>0</th>\n",
       "      <td>23666</td>\n",
       "      <td>https://www.airbnb.com/users/show/23666</td>\n",
       "      <td>Maryanne</td>\n",
       "      <td>2009-06-29</td>\n",
       "      <td>Singapore</td>\n",
       "      <td>I'm a true blue Singaporean who knows my city ...</td>\n",
       "      <td>within an hour</td>\n",
       "      <td>100%</td>\n",
       "      <td>100%</td>\n",
       "      <td>1</td>\n",
       "      <td>...</td>\n",
       "      <td>Marine Parade</td>\n",
       "      <td>1</td>\n",
       "      <td>1</td>\n",
       "      <td>email, phone, reviews, offline_government_id, ...</td>\n",
       "      <td>1</td>\n",
       "      <td>1</td>\n",
       "      <td>1</td>\n",
       "      <td>1</td>\n",
       "      <td>0</td>\n",
       "      <td>0</td>\n",
       "    </tr>\n",
       "    <tr>\n",
       "      <th>1</th>\n",
       "      <td>772728</td>\n",
       "      <td>https://www.airbnb.com/users/show/772728</td>\n",
       "      <td>Sunrise</td>\n",
       "      <td>2011-07-03</td>\n",
       "      <td>Singapore, Singapore</td>\n",
       "      <td>None</td>\n",
       "      <td>within an hour</td>\n",
       "      <td>100%</td>\n",
       "      <td>None</td>\n",
       "      <td>1</td>\n",
       "      <td>...</td>\n",
       "      <td>Geylang</td>\n",
       "      <td>1</td>\n",
       "      <td>1</td>\n",
       "      <td>email, phone, reviews, jumio, offline_governme...</td>\n",
       "      <td>1</td>\n",
       "      <td>1</td>\n",
       "      <td>2</td>\n",
       "      <td>2</td>\n",
       "      <td>0</td>\n",
       "      <td>0</td>\n",
       "    </tr>\n",
       "    <tr>\n",
       "      <th>2</th>\n",
       "      <td>1030128</td>\n",
       "      <td>https://www.airbnb.com/users/show/1030128</td>\n",
       "      <td>Lena</td>\n",
       "      <td>2011-08-28</td>\n",
       "      <td>Singapore</td>\n",
       "      <td>I enjoy travelling as well as welcoming guests...</td>\n",
       "      <td>within a few hours</td>\n",
       "      <td>100%</td>\n",
       "      <td>100%</td>\n",
       "      <td>1</td>\n",
       "      <td>...</td>\n",
       "      <td>Jurong West</td>\n",
       "      <td>3</td>\n",
       "      <td>3</td>\n",
       "      <td>email, phone, facebook, reviews, jumio, offlin...</td>\n",
       "      <td>1</td>\n",
       "      <td>0</td>\n",
       "      <td>4</td>\n",
       "      <td>0</td>\n",
       "      <td>4</td>\n",
       "      <td>0</td>\n",
       "    </tr>\n",
       "    <tr>\n",
       "      <th>3</th>\n",
       "      <td>1170341</td>\n",
       "      <td>https://www.airbnb.com/users/show/1170341</td>\n",
       "      <td>Jenny</td>\n",
       "      <td>2011-09-17</td>\n",
       "      <td>Singapore</td>\n",
       "      <td>I am from Singapore.  Housewife.  Love to cook...</td>\n",
       "      <td>within an hour</td>\n",
       "      <td>100%</td>\n",
       "      <td>None</td>\n",
       "      <td>1</td>\n",
       "      <td>...</td>\n",
       "      <td>None</td>\n",
       "      <td>3</td>\n",
       "      <td>3</td>\n",
       "      <td>email, phone, reviews, jumio, offline_governme...</td>\n",
       "      <td>1</td>\n",
       "      <td>1</td>\n",
       "      <td>3</td>\n",
       "      <td>0</td>\n",
       "      <td>3</td>\n",
       "      <td>0</td>\n",
       "    </tr>\n",
       "    <tr>\n",
       "      <th>4</th>\n",
       "      <td>1584407</td>\n",
       "      <td>https://www.airbnb.com/users/show/1584407</td>\n",
       "      <td>Richard</td>\n",
       "      <td>2012-01-09</td>\n",
       "      <td>Singapore, Singapore</td>\n",
       "      <td>Enjoyed saving, refurbishing  and re-developin...</td>\n",
       "      <td>None</td>\n",
       "      <td>None</td>\n",
       "      <td>50%</td>\n",
       "      <td>1</td>\n",
       "      <td>...</td>\n",
       "      <td>Marine Parade</td>\n",
       "      <td>5</td>\n",
       "      <td>5</td>\n",
       "      <td>email, phone, facebook, reviews, manual_offlin...</td>\n",
       "      <td>1</td>\n",
       "      <td>1</td>\n",
       "      <td>4</td>\n",
       "      <td>2</td>\n",
       "      <td>2</td>\n",
       "      <td>0</td>\n",
       "    </tr>\n",
       "  </tbody>\n",
       "</table>\n",
       "<p>5 rows × 22 columns</p>\n",
       "</div>"
      ],
      "text/plain": [
       "   host_id                                   host_url host_name  host_since  \\\n",
       "0    23666    https://www.airbnb.com/users/show/23666  Maryanne  2009-06-29   \n",
       "1   772728   https://www.airbnb.com/users/show/772728   Sunrise  2011-07-03   \n",
       "2  1030128  https://www.airbnb.com/users/show/1030128      Lena  2011-08-28   \n",
       "3  1170341  https://www.airbnb.com/users/show/1170341     Jenny  2011-09-17   \n",
       "4  1584407  https://www.airbnb.com/users/show/1584407   Richard  2012-01-09   \n",
       "\n",
       "          host_location                                         host_about  \\\n",
       "0             Singapore  I'm a true blue Singaporean who knows my city ...   \n",
       "1  Singapore, Singapore                                               None   \n",
       "2             Singapore  I enjoy travelling as well as welcoming guests...   \n",
       "3             Singapore  I am from Singapore.  Housewife.  Love to cook...   \n",
       "4  Singapore, Singapore  Enjoyed saving, refurbishing  and re-developin...   \n",
       "\n",
       "   host_response_time host_response_rate host_acceptance_rate  \\\n",
       "0      within an hour               100%                 100%   \n",
       "1      within an hour               100%                 None   \n",
       "2  within a few hours               100%                 100%   \n",
       "3      within an hour               100%                 None   \n",
       "4                None               None                  50%   \n",
       "\n",
       "   host_is_superhost  ... host_neighbourhood host_listings_count  \\\n",
       "0                  1  ...      Marine Parade                   1   \n",
       "1                  1  ...            Geylang                   1   \n",
       "2                  1  ...        Jurong West                   3   \n",
       "3                  1  ...               None                   3   \n",
       "4                  1  ...      Marine Parade                   5   \n",
       "\n",
       "  host_total_listings_count  \\\n",
       "0                         1   \n",
       "1                         1   \n",
       "2                         3   \n",
       "3                         3   \n",
       "4                         5   \n",
       "\n",
       "                                  host_verifications  host_has_profile_pic  \\\n",
       "0  email, phone, reviews, offline_government_id, ...                     1   \n",
       "1  email, phone, reviews, jumio, offline_governme...                     1   \n",
       "2  email, phone, facebook, reviews, jumio, offlin...                     1   \n",
       "3  email, phone, reviews, jumio, offline_governme...                     1   \n",
       "4  email, phone, facebook, reviews, manual_offlin...                     1   \n",
       "\n",
       "  host_identity_verified  calculated_host_listings_count  \\\n",
       "0                      1                               1   \n",
       "1                      1                               2   \n",
       "2                      0                               4   \n",
       "3                      1                               3   \n",
       "4                      1                               4   \n",
       "\n",
       "   calculated_host_listings_count_entire_homes  \\\n",
       "0                                            1   \n",
       "1                                            2   \n",
       "2                                            0   \n",
       "3                                            0   \n",
       "4                                            2   \n",
       "\n",
       "   calculated_host_listings_count_private_rooms  \\\n",
       "0                                             0   \n",
       "1                                             0   \n",
       "2                                             4   \n",
       "3                                             3   \n",
       "4                                             2   \n",
       "\n",
       "   calculated_host_listings_count_shared_rooms  \n",
       "0                                            0  \n",
       "1                                            0  \n",
       "2                                            0  \n",
       "3                                            0  \n",
       "4                                            0  \n",
       "\n",
       "[5 rows x 22 columns]"
      ]
     },
     "execution_count": 26,
     "metadata": {},
     "output_type": "execute_result"
    }
   ],
   "source": [
    "query = \"SELECT * FROM host_info WHERE host_is_superhost = TRUE LIMIT 5\"\n",
    "\n",
    "pd.read_sql(query, mydb)"
   ]
  },
  {
   "cell_type": "markdown",
   "metadata": {},
   "source": [
    "You can get the number of row in the data using COUNT( * )"
   ]
  },
  {
   "cell_type": "code",
   "execution_count": 27,
   "metadata": {},
   "outputs": [
    {
     "data": {
      "text/html": [
       "<div>\n",
       "<style scoped>\n",
       "    .dataframe tbody tr th:only-of-type {\n",
       "        vertical-align: middle;\n",
       "    }\n",
       "\n",
       "    .dataframe tbody tr th {\n",
       "        vertical-align: top;\n",
       "    }\n",
       "\n",
       "    .dataframe thead th {\n",
       "        text-align: right;\n",
       "    }\n",
       "</style>\n",
       "<table border=\"1\" class=\"dataframe\">\n",
       "  <thead>\n",
       "    <tr style=\"text-align: right;\">\n",
       "      <th></th>\n",
       "      <th>COUNT(*)</th>\n",
       "    </tr>\n",
       "  </thead>\n",
       "  <tbody>\n",
       "    <tr>\n",
       "      <th>0</th>\n",
       "      <td>1205</td>\n",
       "    </tr>\n",
       "  </tbody>\n",
       "</table>\n",
       "</div>"
      ],
      "text/plain": [
       "   COUNT(*)\n",
       "0      1205"
      ]
     },
     "execution_count": 27,
     "metadata": {},
     "output_type": "execute_result"
    }
   ],
   "source": [
    "# Total number of row in host_info\n",
    "query = \"SELECT COUNT(*) FROM host_info\"\n",
    "\n",
    "pd.read_sql(query, mydb)"
   ]
  },
  {
   "cell_type": "markdown",
   "metadata": {},
   "source": [
    "## Listing\n",
    "### Processing Listing Table\n",
    "\n",
    "We will do full analysis of the data and understand different kind of SQL command in another notebook. For now, we will finish inserting all data into the database. Let's continue processing the remaining column from the listing dataset."
   ]
  },
  {
   "cell_type": "code",
   "execution_count": 28,
   "metadata": {},
   "outputs": [
    {
     "name": "stdout",
     "output_type": "stream",
     "text": [
      "<class 'pandas.core.frame.DataFrame'>\n",
      "RangeIndex: 4388 entries, 0 to 4387\n",
      "Data columns (total 53 columns):\n",
      " #   Column                        Non-Null Count  Dtype  \n",
      "---  ------                        --------------  -----  \n",
      " 0   id                            4388 non-null   int64  \n",
      " 1   listing_url                   4388 non-null   object \n",
      " 2   scrape_id                     4388 non-null   int64  \n",
      " 3   last_scraped                  4388 non-null   object \n",
      " 4   name                          4388 non-null   object \n",
      " 5   description                   4241 non-null   object \n",
      " 6   neighborhood_overview         2787 non-null   object \n",
      " 7   picture_url                   4388 non-null   object \n",
      " 8   host_id                       4388 non-null   int64  \n",
      " 9   neighbourhood                 2787 non-null   object \n",
      " 10  neighbourhood_cleansed        4388 non-null   object \n",
      " 11  neighbourhood_group_cleansed  4388 non-null   object \n",
      " 12  latitude                      4388 non-null   float64\n",
      " 13  longitude                     4388 non-null   float64\n",
      " 14  property_type                 4388 non-null   object \n",
      " 15  room_type                     4388 non-null   object \n",
      " 16  accommodates                  4388 non-null   int64  \n",
      " 17  bathrooms                     0 non-null      float64\n",
      " 18  bathrooms_text                4367 non-null   object \n",
      " 19  bedrooms                      3973 non-null   float64\n",
      " 20  beds                          4312 non-null   float64\n",
      " 21  amenities                     4388 non-null   object \n",
      " 22  price                         4388 non-null   object \n",
      " 23  minimum_nights                4388 non-null   int64  \n",
      " 24  maximum_nights                4388 non-null   int64  \n",
      " 25  minimum_minimum_nights        4387 non-null   float64\n",
      " 26  maximum_minimum_nights        4387 non-null   float64\n",
      " 27  minimum_maximum_nights        4387 non-null   float64\n",
      " 28  maximum_maximum_nights        4387 non-null   float64\n",
      " 29  minimum_nights_avg_ntm        4387 non-null   float64\n",
      " 30  maximum_nights_avg_ntm        4387 non-null   float64\n",
      " 31  calendar_updated              0 non-null      float64\n",
      " 32  has_availability              4388 non-null   object \n",
      " 33  availability_30               4388 non-null   int64  \n",
      " 34  availability_60               4388 non-null   int64  \n",
      " 35  availability_90               4388 non-null   int64  \n",
      " 36  availability_365              4388 non-null   int64  \n",
      " 37  calendar_last_scraped         4388 non-null   object \n",
      " 38  number_of_reviews             4388 non-null   int64  \n",
      " 39  number_of_reviews_ltm         4388 non-null   int64  \n",
      " 40  number_of_reviews_l30d        4388 non-null   int64  \n",
      " 41  first_review                  2617 non-null   object \n",
      " 42  last_review                   2617 non-null   object \n",
      " 43  review_scores_rating          2555 non-null   float64\n",
      " 44  review_scores_accuracy        2550 non-null   float64\n",
      " 45  review_scores_cleanliness     2551 non-null   float64\n",
      " 46  review_scores_checkin         2550 non-null   float64\n",
      " 47  review_scores_communication   2550 non-null   float64\n",
      " 48  review_scores_location        2549 non-null   float64\n",
      " 49  review_scores_value           2549 non-null   float64\n",
      " 50  license                       0 non-null      float64\n",
      " 51  instant_bookable              4388 non-null   object \n",
      " 52  reviews_per_month             2617 non-null   float64\n",
      "dtypes: float64(21), int64(13), object(19)\n",
      "memory usage: 1.8+ MB\n"
     ]
    }
   ],
   "source": [
    "# Remove column related to host except host_id\n",
    "df_new_listing = df_listing.drop( df_host.columns[1:], axis = 1).copy()\n",
    "\n",
    "df_new_listing.info()"
   ]
  },
  {
   "cell_type": "markdown",
   "metadata": {},
   "source": [
    "Some columns, such as the `calendar_updated`, `license`, and `bathrooms` are only consists of missing values. The `scrape_id` is also has no apparent meaning for now since we already has the `last_scraped` column to show us the lates date of scraping. These columns are not informative, so we will drop them."
   ]
  },
  {
   "cell_type": "code",
   "execution_count": 29,
   "metadata": {},
   "outputs": [],
   "source": [
    "# Delete columns with all missing values and scrape_id\n",
    "df_new_listing.drop(['license', 'calendar_updated', 'bathrooms', 'scrape_id'], axis = 1, inplace = True)"
   ]
  },
  {
   "cell_type": "markdown",
   "metadata": {},
   "source": [
    "Next, we will convert columns that should has a boolean/logical value, including `has_availability` and `instant_bookable`."
   ]
  },
  {
   "cell_type": "code",
   "execution_count": 30,
   "metadata": {},
   "outputs": [],
   "source": [
    "for col in ['has_availability', 'instant_bookable']:\n",
    "    \n",
    "    df_new_listing[col] = list(map(lambda x: True if x == \"t\" else False if x == \"f\" else np.nan, df_new_listing[col]))"
   ]
  },
  {
   "cell_type": "markdown",
   "metadata": {},
   "source": [
    "We will continue by transforming the `price` column into decimal/numeric values by removing the dollar sign from the string."
   ]
  },
  {
   "cell_type": "code",
   "execution_count": 31,
   "metadata": {},
   "outputs": [
    {
     "data": {
      "text/plain": [
       "0     81.0\n",
       "1     80.0\n",
       "2     67.0\n",
       "3    177.0\n",
       "4     81.0\n",
       "Name: price, dtype: float64"
      ]
     },
     "execution_count": 31,
     "metadata": {},
     "output_type": "execute_result"
    }
   ],
   "source": [
    "df_new_listing['price'] = list(map(lambda x: float(re.sub('[$,]', '', x)), df_new_listing['price']))\n",
    "\n",
    "df_new_listing['price'][0:5]"
   ]
  },
  {
   "cell_type": "markdown",
   "metadata": {},
   "source": [
    "Now we will continue transforming the `amenities` with the same treatment as the `host_verification` column from the host dataset."
   ]
  },
  {
   "cell_type": "code",
   "execution_count": 32,
   "metadata": {},
   "outputs": [
    {
     "data": {
      "text/plain": [
       "0    Wifi, Elevator, Long term stays allowed, Air c...\n",
       "1    Wifi, Kitchen, Elevator, Long term stays allow...\n",
       "2    Wifi, Kitchen, Elevator, Air conditioning, TV,...\n",
       "3    Hair dryer, Kitchen, Free street parking, Keyp...\n",
       "4    Coffee maker, Hair dryer, Kitchen, Free street...\n",
       "Name: amenities, dtype: object"
      ]
     },
     "execution_count": 32,
     "metadata": {},
     "output_type": "execute_result"
    }
   ],
   "source": [
    "df_new_listing['amenities'] = list(map(lambda x: re.sub(\"[\\\"\\'\\[\\]]\", '', x), df_new_listing['amenities']))\n",
    "\n",
    "df_new_listing['amenities'][0:5]"
   ]
  },
  {
   "cell_type": "markdown",
   "metadata": {},
   "source": [
    "We will clean the string object with the `clean_char()` function from the previous step."
   ]
  },
  {
   "cell_type": "code",
   "execution_count": 33,
   "metadata": {},
   "outputs": [],
   "source": [
    "df_new_listing = clean_char(df_new_listing)"
   ]
  },
  {
   "cell_type": "markdown",
   "metadata": {},
   "source": [
    "### Create Listing Table\n",
    "\n",
    "Now we will start creating a listing table in the MySQL server. First, let's check the length of each string column in the data."
   ]
  },
  {
   "cell_type": "code",
   "execution_count": 34,
   "metadata": {},
   "outputs": [
    {
     "name": "stdout",
     "output_type": "stream",
     "text": [
      "Maximum Character Length\n",
      "Maximum Character Length\n",
      "listing_url: 39\n",
      "last_scraped: 12\n",
      "name: 75\n",
      "description: 1002\n",
      "neighborhood_overview: 1002\n",
      "picture_url: 128\n",
      "neighbourhood: 43\n",
      "neighbourhood_cleansed: 25\n",
      "neighbourhood_group_cleansed: 19\n",
      "property_type: 36\n",
      "room_type: 17\n",
      "bathrooms_text: 19\n",
      "amenities: 972\n",
      "calendar_last_scraped: 12\n",
      "first_review: 12\n",
      "last_review: 12\n"
     ]
    }
   ],
   "source": [
    "print(\"Maximum Character Length\")\n",
    "check_char(df_new_listing.select_dtypes('object'))"
   ]
  },
  {
   "cell_type": "markdown",
   "metadata": {},
   "source": [
    "Let's start writing the query for creating the table. For a numeric values such as price, we will use **Decimal** data type while the rest is the same as the host table. The primary key for the listing table is the `id`, which indicate the listing id. The foreign key for the listing table is `host_id`, which we can use to join the listing table with the host_info table for analysis."
   ]
  },
  {
   "cell_type": "code",
   "execution_count": 35,
   "metadata": {},
   "outputs": [],
   "source": [
    "query = \"\"\"\n",
    "CREATE TABLE listing(\n",
    "id INT,\n",
    "listing_url VARCHAR(100),\n",
    "last_scraped DATE,\n",
    "name VARCHAR(500),\n",
    "description VARCHAR(2000),\n",
    "neighborhood_overview VARCHAR(2000),\n",
    "picture_url VARCHAR(500),\n",
    "host_id INT,\n",
    "neighbourhood VARCHAR(100),\n",
    "neighbourhood_cleansed VARCHAR(100),\n",
    "neighbourhood_group_cleansed VARCHAR(100),\n",
    "latitude DECIMAL(25,18),\n",
    "longitude DECIMAL(25, 18),\n",
    "property_type VARCHAR(100),\n",
    "room_type VARCHAR(100),\n",
    "accommodates INT,\n",
    "bathrooms_text VARCHAR(100),\n",
    "bedrooms INT,\n",
    "beds INT,\n",
    "amenities VARCHAR(2000),\n",
    "price DECIMAL(10, 5),\n",
    "minimum_nights INT,\n",
    "maximum_nights INT,\n",
    "minimum_minimum_nights INT,\n",
    "maximum_minimum_nights INT,\n",
    "minimum_maximum_nights INT,\n",
    "maximum_maximum_nights INT,\n",
    "minimum_nights_avg_ntm DECIMAL(16, 5),\n",
    "maximum_nights_avg_ntm DECIMAL(16, 5),\n",
    "has_availability BOOLEAN,\n",
    "availability_30 INT,\n",
    "availability_60 INT,\n",
    "availability_90 INT,\n",
    "availability_365 INT,\n",
    "calendar_last_scraped DATE,\n",
    "number_of_reviews INT,\n",
    "number_of_reviews_ltm INT,\n",
    "number_of_reviews_l30d INT,\n",
    "first_review DATE,\n",
    "last_review DATE,\n",
    "review_scores_rating DECIMAL(10, 5),\n",
    "review_scores_accuracy DECIMAL(10, 5),\n",
    "review_scores_cleanliness DECIMAL(10, 5),\n",
    "review_scores_checkin DECIMAL(10, 5),\n",
    "review_scores_communication DECIMAL(10, 5),\n",
    "review_scores_location DECIMAL(10, 5),\n",
    "review_scores_value DECIMAL(10, 5),\n",
    "instant_bookable BOOLEAN,\n",
    "reviews_per_month DECIMAL(10, 5),\n",
    "PRIMARY KEY(id),\n",
    "FOREIGN KEY(host_id) REFERENCES host_info(host_id)\n",
    ")\n",
    "\"\"\""
   ]
  },
  {
   "cell_type": "markdown",
   "metadata": {},
   "source": [
    "Let's run the query and create a listing table."
   ]
  },
  {
   "cell_type": "raw",
   "metadata": {},
   "source": [
    "cursor = mydb.cursor()\n",
    "\n",
    "cursor.execute(query)\n",
    "\n",
    "mydb.commit()\n",
    "\n",
    "cursor.close()"
   ]
  },
  {
   "cell_type": "markdown",
   "metadata": {},
   "source": [
    "You can check the listing table with the following query."
   ]
  },
  {
   "cell_type": "raw",
   "metadata": {},
   "source": [
    "query = \"DESCRIBE listing\"\n",
    "\n",
    "pd.read_sql(query, mydb)"
   ]
  },
  {
   "cell_type": "markdown",
   "metadata": {},
   "source": [
    "### Insert Data to Listing Table\n",
    "\n",
    "Now we will insert each row into the table that we have defined previously. You just need to enter the initial pandas dataframe and the target table in the MySQL server."
   ]
  },
  {
   "cell_type": "raw",
   "metadata": {},
   "source": [
    "insert_to_sql(df_new_listing, 'listing')"
   ]
  },
  {
   "cell_type": "markdown",
   "metadata": {},
   "source": [
    "### Query the Listing Table\n",
    "\n",
    "Let's do some simple query to check the data that we have inserted. \n",
    "\n",
    "Let's check how many rows are there on the listing table."
   ]
  },
  {
   "cell_type": "code",
   "execution_count": 36,
   "metadata": {},
   "outputs": [
    {
     "data": {
      "text/html": [
       "<div>\n",
       "<style scoped>\n",
       "    .dataframe tbody tr th:only-of-type {\n",
       "        vertical-align: middle;\n",
       "    }\n",
       "\n",
       "    .dataframe tbody tr th {\n",
       "        vertical-align: top;\n",
       "    }\n",
       "\n",
       "    .dataframe thead th {\n",
       "        text-align: right;\n",
       "    }\n",
       "</style>\n",
       "<table border=\"1\" class=\"dataframe\">\n",
       "  <thead>\n",
       "    <tr style=\"text-align: right;\">\n",
       "      <th></th>\n",
       "      <th>COUNT(*)</th>\n",
       "    </tr>\n",
       "  </thead>\n",
       "  <tbody>\n",
       "    <tr>\n",
       "      <th>0</th>\n",
       "      <td>4388</td>\n",
       "    </tr>\n",
       "  </tbody>\n",
       "</table>\n",
       "</div>"
      ],
      "text/plain": [
       "   COUNT(*)\n",
       "0      4388"
      ]
     },
     "execution_count": 36,
     "metadata": {},
     "output_type": "execute_result"
    }
   ],
   "source": [
    "pd.read_sql(\"SELECT COUNT(*) FROM listing\", mydb)"
   ]
  },
  {
   "cell_type": "markdown",
   "metadata": {},
   "source": [
    "I want to see the top 10 property type based on the frequency from the listing. We can use **COUNT** to get the number of row and use **GROUP BY** to make sure we count the number of row for each property type. To sort the value, we can use **ORDER BY**, folllowed by **DESC** to indicate that we want to sort descending and finally we only take the first 10 row with **LIMIT**."
   ]
  },
  {
   "cell_type": "code",
   "execution_count": 37,
   "metadata": {},
   "outputs": [
    {
     "data": {
      "text/html": [
       "<div>\n",
       "<style scoped>\n",
       "    .dataframe tbody tr th:only-of-type {\n",
       "        vertical-align: middle;\n",
       "    }\n",
       "\n",
       "    .dataframe tbody tr th {\n",
       "        vertical-align: top;\n",
       "    }\n",
       "\n",
       "    .dataframe thead th {\n",
       "        text-align: right;\n",
       "    }\n",
       "</style>\n",
       "<table border=\"1\" class=\"dataframe\">\n",
       "  <thead>\n",
       "    <tr style=\"text-align: right;\">\n",
       "      <th></th>\n",
       "      <th>frequency</th>\n",
       "      <th>property_type</th>\n",
       "    </tr>\n",
       "  </thead>\n",
       "  <tbody>\n",
       "    <tr>\n",
       "      <th>0</th>\n",
       "      <td>953</td>\n",
       "      <td>Private room in apartment</td>\n",
       "    </tr>\n",
       "    <tr>\n",
       "      <th>1</th>\n",
       "      <td>845</td>\n",
       "      <td>Entire condominium</td>\n",
       "    </tr>\n",
       "    <tr>\n",
       "      <th>2</th>\n",
       "      <td>545</td>\n",
       "      <td>Entire apartment</td>\n",
       "    </tr>\n",
       "    <tr>\n",
       "      <th>3</th>\n",
       "      <td>375</td>\n",
       "      <td>Private room in condominium</td>\n",
       "    </tr>\n",
       "    <tr>\n",
       "      <th>4</th>\n",
       "      <td>334</td>\n",
       "      <td>Entire serviced apartment</td>\n",
       "    </tr>\n",
       "    <tr>\n",
       "      <th>5</th>\n",
       "      <td>217</td>\n",
       "      <td>Private room in house</td>\n",
       "    </tr>\n",
       "    <tr>\n",
       "      <th>6</th>\n",
       "      <td>195</td>\n",
       "      <td>Room in boutique hotel</td>\n",
       "    </tr>\n",
       "    <tr>\n",
       "      <th>7</th>\n",
       "      <td>131</td>\n",
       "      <td>Room in hotel</td>\n",
       "    </tr>\n",
       "    <tr>\n",
       "      <th>8</th>\n",
       "      <td>124</td>\n",
       "      <td>Room in hostel</td>\n",
       "    </tr>\n",
       "    <tr>\n",
       "      <th>9</th>\n",
       "      <td>82</td>\n",
       "      <td>Private room in townhouse</td>\n",
       "    </tr>\n",
       "  </tbody>\n",
       "</table>\n",
       "</div>"
      ],
      "text/plain": [
       "   frequency                property_type\n",
       "0        953    Private room in apartment\n",
       "1        845           Entire condominium\n",
       "2        545             Entire apartment\n",
       "3        375  Private room in condominium\n",
       "4        334    Entire serviced apartment\n",
       "5        217        Private room in house\n",
       "6        195       Room in boutique hotel\n",
       "7        131                Room in hotel\n",
       "8        124               Room in hostel\n",
       "9         82    Private room in townhouse"
      ]
     },
     "execution_count": 37,
     "metadata": {},
     "output_type": "execute_result"
    }
   ],
   "source": [
    "query = \"\"\"\n",
    "SELECT COUNT(*) as frequency, property_type\n",
    "FROM listing\n",
    "GROUP BY property_type\n",
    "ORDER BY COUNT(*) DESC\n",
    "LIMIT 10\n",
    "\"\"\"\n",
    "\n",
    "pd.read_sql(query, mydb)"
   ]
  },
  {
   "cell_type": "markdown",
   "metadata": {},
   "source": [
    "How about the top 10 most expensive listing? We can check the sorting the data with the `price` column."
   ]
  },
  {
   "cell_type": "code",
   "execution_count": 38,
   "metadata": {},
   "outputs": [
    {
     "data": {
      "text/html": [
       "<div>\n",
       "<style scoped>\n",
       "    .dataframe tbody tr th:only-of-type {\n",
       "        vertical-align: middle;\n",
       "    }\n",
       "\n",
       "    .dataframe tbody tr th {\n",
       "        vertical-align: top;\n",
       "    }\n",
       "\n",
       "    .dataframe thead th {\n",
       "        text-align: right;\n",
       "    }\n",
       "</style>\n",
       "<table border=\"1\" class=\"dataframe\">\n",
       "  <thead>\n",
       "    <tr style=\"text-align: right;\">\n",
       "      <th></th>\n",
       "      <th>price</th>\n",
       "      <th>property_type</th>\n",
       "      <th>neighbourhood</th>\n",
       "    </tr>\n",
       "  </thead>\n",
       "  <tbody>\n",
       "    <tr>\n",
       "      <th>0</th>\n",
       "      <td>10286.0</td>\n",
       "      <td>Entire condominium</td>\n",
       "      <td>None</td>\n",
       "    </tr>\n",
       "    <tr>\n",
       "      <th>1</th>\n",
       "      <td>7286.0</td>\n",
       "      <td>Entire apartment</td>\n",
       "      <td>Singapore, Singapore</td>\n",
       "    </tr>\n",
       "    <tr>\n",
       "      <th>2</th>\n",
       "      <td>7000.0</td>\n",
       "      <td>Private room in apartment</td>\n",
       "      <td>None</td>\n",
       "    </tr>\n",
       "    <tr>\n",
       "      <th>3</th>\n",
       "      <td>5000.0</td>\n",
       "      <td>Entire house</td>\n",
       "      <td>Singapore, Singapore</td>\n",
       "    </tr>\n",
       "    <tr>\n",
       "      <th>4</th>\n",
       "      <td>4311.0</td>\n",
       "      <td>Entire serviced apartment</td>\n",
       "      <td>None</td>\n",
       "    </tr>\n",
       "    <tr>\n",
       "      <th>5</th>\n",
       "      <td>4000.0</td>\n",
       "      <td>Entire apartment</td>\n",
       "      <td>Singapore, Singapore</td>\n",
       "    </tr>\n",
       "    <tr>\n",
       "      <th>6</th>\n",
       "      <td>4000.0</td>\n",
       "      <td>Private room in apartment</td>\n",
       "      <td>Singapore, Singapore</td>\n",
       "    </tr>\n",
       "    <tr>\n",
       "      <th>7</th>\n",
       "      <td>3770.0</td>\n",
       "      <td>Shared room in apartment</td>\n",
       "      <td>None</td>\n",
       "    </tr>\n",
       "    <tr>\n",
       "      <th>8</th>\n",
       "      <td>3300.0</td>\n",
       "      <td>Entire condominium</td>\n",
       "      <td>Singapore, Singapore</td>\n",
       "    </tr>\n",
       "    <tr>\n",
       "      <th>9</th>\n",
       "      <td>3000.0</td>\n",
       "      <td>Entire place</td>\n",
       "      <td>None</td>\n",
       "    </tr>\n",
       "  </tbody>\n",
       "</table>\n",
       "</div>"
      ],
      "text/plain": [
       "     price              property_type         neighbourhood\n",
       "0  10286.0         Entire condominium                  None\n",
       "1   7286.0           Entire apartment  Singapore, Singapore\n",
       "2   7000.0  Private room in apartment                  None\n",
       "3   5000.0               Entire house  Singapore, Singapore\n",
       "4   4311.0  Entire serviced apartment                  None\n",
       "5   4000.0           Entire apartment  Singapore, Singapore\n",
       "6   4000.0  Private room in apartment  Singapore, Singapore\n",
       "7   3770.0   Shared room in apartment                  None\n",
       "8   3300.0         Entire condominium  Singapore, Singapore\n",
       "9   3000.0               Entire place                  None"
      ]
     },
     "execution_count": 38,
     "metadata": {},
     "output_type": "execute_result"
    }
   ],
   "source": [
    "query = \"\"\"\n",
    "SELECT price, property_type, neighbourhood\n",
    "FROM listing\n",
    "ORDER BY price DESC\n",
    "LIMIT 10\n",
    "\"\"\"\n",
    "\n",
    "pd.read_sql(query, mydb)"
   ]
  },
  {
   "cell_type": "markdown",
   "metadata": {},
   "source": [
    "## Reviewer\n",
    "\n",
    "### Processing Reviewer Data\n",
    "\n",
    "After we have completed processing the listing data, now we move on to review dataset. The data consists of information regarding the date of the comment, the reviewer and the content of the review or the comment. "
   ]
  },
  {
   "cell_type": "code",
   "execution_count": 39,
   "metadata": {},
   "outputs": [
    {
     "name": "stdout",
     "output_type": "stream",
     "text": [
      "<class 'pandas.core.frame.DataFrame'>\n",
      "RangeIndex: 53675 entries, 0 to 53674\n",
      "Data columns (total 6 columns):\n",
      " #   Column         Non-Null Count  Dtype \n",
      "---  ------         --------------  ----- \n",
      " 0   listing_id     53675 non-null  int64 \n",
      " 1   id             53675 non-null  int64 \n",
      " 2   date           53675 non-null  object\n",
      " 3   reviewer_id    53675 non-null  int64 \n",
      " 4   reviewer_name  53675 non-null  object\n",
      " 5   comments       53574 non-null  object\n",
      "dtypes: int64(3), object(3)\n",
      "memory usage: 2.5+ MB\n"
     ]
    }
   ],
   "source": [
    "df_review = pd.read_csv(\"data/reviews.csv\")\n",
    "\n",
    "df_review.info()"
   ]
  },
  {
   "cell_type": "markdown",
   "metadata": {},
   "source": [
    "Since the reviewer has information about reviewer id and the reviewer name, we will split this columns into separate dataset."
   ]
  },
  {
   "cell_type": "code",
   "execution_count": 40,
   "metadata": {},
   "outputs": [],
   "source": [
    "df_reviewer = df_review.loc[:, 'reviewer_id':'reviewer_name']"
   ]
  },
  {
   "cell_type": "markdown",
   "metadata": {},
   "source": [
    "Let's check if a reviewer comment on more than 1 listing."
   ]
  },
  {
   "cell_type": "code",
   "execution_count": 41,
   "metadata": {},
   "outputs": [
    {
     "data": {
      "text/plain": [
       "reviewer_id\n",
       "3289968      19\n",
       "350742662    19\n",
       "97681492     18\n",
       "163650600    15\n",
       "10011442     15\n",
       "             ..\n",
       "47533960      1\n",
       "47535495      1\n",
       "47535590      1\n",
       "47536393      1\n",
       "392309572     1\n",
       "Length: 49185, dtype: int64"
      ]
     },
     "execution_count": 41,
     "metadata": {},
     "output_type": "execute_result"
    }
   ],
   "source": [
    "df_reviewer.value_counts('reviewer_id')"
   ]
  },
  {
   "cell_type": "markdown",
   "metadata": {},
   "source": [
    "Now we will remove duplicated reviewer to reduce the dimension of the reviewer data."
   ]
  },
  {
   "cell_type": "code",
   "execution_count": 42,
   "metadata": {},
   "outputs": [
    {
     "name": "stdout",
     "output_type": "stream",
     "text": [
      "Number of rows: 49185\n"
     ]
    }
   ],
   "source": [
    "df_reviewer = df_reviewer[ df_reviewer['reviewer_id'].duplicated() == False ]\n",
    "\n",
    "print(\"Number of rows: %i\" %df_reviewer.shape[0])"
   ]
  },
  {
   "cell_type": "markdown",
   "metadata": {},
   "source": [
    "Finally, since we only have 2 column, we just need to clean the string on the reviewer name and it is all complete."
   ]
  },
  {
   "cell_type": "code",
   "execution_count": 43,
   "metadata": {},
   "outputs": [],
   "source": [
    "df_reviewer = clean_char(df_reviewer)"
   ]
  },
  {
   "cell_type": "code",
   "execution_count": 44,
   "metadata": {},
   "outputs": [
    {
     "name": "stdout",
     "output_type": "stream",
     "text": [
      "<class 'pandas.core.frame.DataFrame'>\n",
      "Int64Index: 49185 entries, 0 to 53673\n",
      "Data columns (total 2 columns):\n",
      " #   Column         Non-Null Count  Dtype \n",
      "---  ------         --------------  ----- \n",
      " 0   reviewer_id    49185 non-null  int64 \n",
      " 1   reviewer_name  49185 non-null  object\n",
      "dtypes: int64(1), object(1)\n",
      "memory usage: 2.1+ MB\n"
     ]
    }
   ],
   "source": [
    "df_reviewer.info()"
   ]
  },
  {
   "cell_type": "markdown",
   "metadata": {},
   "source": [
    "### Create Reviewer Table\n",
    "\n",
    "Now we will start creating a reviewer table in the MySQL server. First, let's check the length of each string column in the data."
   ]
  },
  {
   "cell_type": "code",
   "execution_count": 45,
   "metadata": {},
   "outputs": [
    {
     "name": "stdout",
     "output_type": "stream",
     "text": [
      "Maximum Character Length\n",
      "Maximum Character Length\n",
      "reviewer_name: 41\n"
     ]
    }
   ],
   "source": [
    "print(\"Maximum Character Length\")\n",
    "check_char(df_reviewer.select_dtypes('object'))"
   ]
  },
  {
   "cell_type": "markdown",
   "metadata": {},
   "source": [
    "Let's create the query for creating the table."
   ]
  },
  {
   "cell_type": "code",
   "execution_count": 46,
   "metadata": {},
   "outputs": [],
   "source": [
    "query = \"\"\"\n",
    "CREATE TABLE reviewer (\n",
    "reviewer_id INT,\n",
    "reviewer_name VARCHAR(50),\n",
    "PRIMARY KEY (reviewer_id)\n",
    ")\n",
    "\"\"\""
   ]
  },
  {
   "cell_type": "markdown",
   "metadata": {},
   "source": [
    "Finally, execute the query to create the reviewer table."
   ]
  },
  {
   "cell_type": "raw",
   "metadata": {},
   "source": [
    "cursor = mydb.cursor()\n",
    "\n",
    "cursor.execute(query)\n",
    "\n",
    "mydb.commit()\n",
    "\n",
    "cursor.close()"
   ]
  },
  {
   "cell_type": "markdown",
   "metadata": {},
   "source": [
    "Let's check the reviewer table that we have created."
   ]
  },
  {
   "cell_type": "code",
   "execution_count": 47,
   "metadata": {},
   "outputs": [
    {
     "data": {
      "text/html": [
       "<div>\n",
       "<style scoped>\n",
       "    .dataframe tbody tr th:only-of-type {\n",
       "        vertical-align: middle;\n",
       "    }\n",
       "\n",
       "    .dataframe tbody tr th {\n",
       "        vertical-align: top;\n",
       "    }\n",
       "\n",
       "    .dataframe thead th {\n",
       "        text-align: right;\n",
       "    }\n",
       "</style>\n",
       "<table border=\"1\" class=\"dataframe\">\n",
       "  <thead>\n",
       "    <tr style=\"text-align: right;\">\n",
       "      <th></th>\n",
       "      <th>Field</th>\n",
       "      <th>Type</th>\n",
       "      <th>Null</th>\n",
       "      <th>Key</th>\n",
       "      <th>Default</th>\n",
       "      <th>Extra</th>\n",
       "    </tr>\n",
       "  </thead>\n",
       "  <tbody>\n",
       "    <tr>\n",
       "      <th>0</th>\n",
       "      <td>reviewer_id</td>\n",
       "      <td>b'int'</td>\n",
       "      <td>NO</td>\n",
       "      <td>PRI</td>\n",
       "      <td>None</td>\n",
       "      <td></td>\n",
       "    </tr>\n",
       "    <tr>\n",
       "      <th>1</th>\n",
       "      <td>reviewer_name</td>\n",
       "      <td>b'varchar(50)'</td>\n",
       "      <td>YES</td>\n",
       "      <td></td>\n",
       "      <td>None</td>\n",
       "      <td></td>\n",
       "    </tr>\n",
       "  </tbody>\n",
       "</table>\n",
       "</div>"
      ],
      "text/plain": [
       "           Field            Type Null  Key Default Extra\n",
       "0    reviewer_id          b'int'   NO  PRI    None      \n",
       "1  reviewer_name  b'varchar(50)'  YES         None      "
      ]
     },
     "execution_count": 47,
     "metadata": {},
     "output_type": "execute_result"
    }
   ],
   "source": [
    "query = \"DESCRIBE reviewer\"\n",
    "\n",
    "pd.read_sql(query, mydb)"
   ]
  },
  {
   "cell_type": "markdown",
   "metadata": {},
   "source": [
    "### Insert Data to Reviewer Table\n",
    "\n",
    "Now we will insert each row into the table."
   ]
  },
  {
   "cell_type": "raw",
   "metadata": {},
   "source": [
    "insert_to_sql(df_reviewer, 'reviewer')"
   ]
  },
  {
   "cell_type": "markdown",
   "metadata": {},
   "source": [
    "### Query the Reviewer Table\n",
    "\n",
    "Let's check the number of unique reviewer on the table."
   ]
  },
  {
   "cell_type": "code",
   "execution_count": 48,
   "metadata": {},
   "outputs": [
    {
     "data": {
      "text/html": [
       "<div>\n",
       "<style scoped>\n",
       "    .dataframe tbody tr th:only-of-type {\n",
       "        vertical-align: middle;\n",
       "    }\n",
       "\n",
       "    .dataframe tbody tr th {\n",
       "        vertical-align: top;\n",
       "    }\n",
       "\n",
       "    .dataframe thead th {\n",
       "        text-align: right;\n",
       "    }\n",
       "</style>\n",
       "<table border=\"1\" class=\"dataframe\">\n",
       "  <thead>\n",
       "    <tr style=\"text-align: right;\">\n",
       "      <th></th>\n",
       "      <th>COUNT(*)</th>\n",
       "    </tr>\n",
       "  </thead>\n",
       "  <tbody>\n",
       "    <tr>\n",
       "      <th>0</th>\n",
       "      <td>49185</td>\n",
       "    </tr>\n",
       "  </tbody>\n",
       "</table>\n",
       "</div>"
      ],
      "text/plain": [
       "   COUNT(*)\n",
       "0     49185"
      ]
     },
     "execution_count": 48,
     "metadata": {},
     "output_type": "execute_result"
    }
   ],
   "source": [
    "pd.read_sql(\"SELECT COUNT(*) FROM reviewer\", mydb)"
   ]
  },
  {
   "cell_type": "markdown",
   "metadata": {},
   "source": [
    "Let's see if there is identical name from different reviewer. It is natural that certain name, especially popular name, to show up multiple time even if they are different person (has different reviewer_id)"
   ]
  },
  {
   "cell_type": "code",
   "execution_count": 49,
   "metadata": {},
   "outputs": [
    {
     "data": {
      "text/html": [
       "<div>\n",
       "<style scoped>\n",
       "    .dataframe tbody tr th:only-of-type {\n",
       "        vertical-align: middle;\n",
       "    }\n",
       "\n",
       "    .dataframe tbody tr th {\n",
       "        vertical-align: top;\n",
       "    }\n",
       "\n",
       "    .dataframe thead th {\n",
       "        text-align: right;\n",
       "    }\n",
       "</style>\n",
       "<table border=\"1\" class=\"dataframe\">\n",
       "  <thead>\n",
       "    <tr style=\"text-align: right;\">\n",
       "      <th></th>\n",
       "      <th>reviewer_name</th>\n",
       "      <th>frequency</th>\n",
       "    </tr>\n",
       "  </thead>\n",
       "  <tbody>\n",
       "    <tr>\n",
       "      <th>0</th>\n",
       "      <td>David</td>\n",
       "      <td>267</td>\n",
       "    </tr>\n",
       "    <tr>\n",
       "      <th>1</th>\n",
       "      <td>Michael</td>\n",
       "      <td>242</td>\n",
       "    </tr>\n",
       "    <tr>\n",
       "      <th>2</th>\n",
       "      <td>Daniel</td>\n",
       "      <td>192</td>\n",
       "    </tr>\n",
       "    <tr>\n",
       "      <th>3</th>\n",
       "      <td>John</td>\n",
       "      <td>185</td>\n",
       "    </tr>\n",
       "    <tr>\n",
       "      <th>4</th>\n",
       "      <td>Andrew</td>\n",
       "      <td>166</td>\n",
       "    </tr>\n",
       "    <tr>\n",
       "      <th>5</th>\n",
       "      <td>Alex</td>\n",
       "      <td>157</td>\n",
       "    </tr>\n",
       "    <tr>\n",
       "      <th>6</th>\n",
       "      <td>Paul</td>\n",
       "      <td>135</td>\n",
       "    </tr>\n",
       "    <tr>\n",
       "      <th>7</th>\n",
       "      <td>Kevin</td>\n",
       "      <td>124</td>\n",
       "    </tr>\n",
       "    <tr>\n",
       "      <th>8</th>\n",
       "      <td>James</td>\n",
       "      <td>122</td>\n",
       "    </tr>\n",
       "    <tr>\n",
       "      <th>9</th>\n",
       "      <td>Peter</td>\n",
       "      <td>122</td>\n",
       "    </tr>\n",
       "  </tbody>\n",
       "</table>\n",
       "</div>"
      ],
      "text/plain": [
       "  reviewer_name  frequency\n",
       "0         David        267\n",
       "1       Michael        242\n",
       "2        Daniel        192\n",
       "3          John        185\n",
       "4        Andrew        166\n",
       "5          Alex        157\n",
       "6          Paul        135\n",
       "7         Kevin        124\n",
       "8         James        122\n",
       "9         Peter        122"
      ]
     },
     "execution_count": 49,
     "metadata": {},
     "output_type": "execute_result"
    }
   ],
   "source": [
    "query = \"\"\"\n",
    "SELECT reviewer_name, COUNT(*) as frequency \n",
    "FROM reviewer\n",
    "GROUP BY reviewer_name\n",
    "ORDER BY COUNT(*) DESC\n",
    "LIMIT 10\n",
    "\"\"\"\n",
    "\n",
    "pd.read_sql(query, mydb)"
   ]
  },
  {
   "cell_type": "markdown",
   "metadata": {},
   "source": [
    "## Review\n",
    "\n",
    "### Processing Review Data\n",
    "\n",
    "For the review data, we just need to drop the `reviewer_name` and clean the string columns."
   ]
  },
  {
   "cell_type": "code",
   "execution_count": 50,
   "metadata": {},
   "outputs": [
    {
     "name": "stdout",
     "output_type": "stream",
     "text": [
      "<class 'pandas.core.frame.DataFrame'>\n",
      "RangeIndex: 53675 entries, 0 to 53674\n",
      "Data columns (total 5 columns):\n",
      " #   Column       Non-Null Count  Dtype \n",
      "---  ------       --------------  ----- \n",
      " 0   listing_id   53675 non-null  int64 \n",
      " 1   id           53675 non-null  int64 \n",
      " 2   date         53675 non-null  object\n",
      " 3   reviewer_id  53675 non-null  int64 \n",
      " 4   comments     53574 non-null  object\n",
      "dtypes: int64(3), object(2)\n",
      "memory usage: 2.0+ MB\n"
     ]
    }
   ],
   "source": [
    "df_new_review = df_review.drop('reviewer_name', axis = 1).copy()\n",
    "df_new_review = clean_char(df_new_review)\n",
    "\n",
    "df_new_review.info()"
   ]
  },
  {
   "cell_type": "markdown",
   "metadata": {},
   "source": [
    "### Create Review Table\n",
    "\n",
    "Let's continue by creating the review table."
   ]
  },
  {
   "cell_type": "code",
   "execution_count": 51,
   "metadata": {},
   "outputs": [
    {
     "name": "stdout",
     "output_type": "stream",
     "text": [
      "Maximum Character Length\n",
      "Maximum Character Length\n",
      "date: 12\n",
      "comments: 5474\n"
     ]
    }
   ],
   "source": [
    "print(\"Maximum Character Length\")\n",
    "check_char(df_new_review.select_dtypes('object'))"
   ]
  },
  {
   "cell_type": "markdown",
   "metadata": {},
   "source": [
    "The review table has 2 foreign key, one that connect to the reviewer and the other connect to the listing that they are commented."
   ]
  },
  {
   "cell_type": "code",
   "execution_count": 52,
   "metadata": {},
   "outputs": [],
   "source": [
    "query = \"\"\"\n",
    "CREATE TABLE review (\n",
    "listing_id INT,\n",
    "id INT,\n",
    "date DATE,\n",
    "reviewer_id INT,\n",
    "comments VARCHAR(6000),\n",
    "PRIMARY KEY (id),\n",
    "FOREIGN KEY (reviewer_id) REFERENCES reviewer(reviewer_id),\n",
    "FOREIGN KEY (listing_id) REFERENCES listing(id)\n",
    ")\n",
    "\"\"\""
   ]
  },
  {
   "cell_type": "raw",
   "metadata": {},
   "source": [
    "cursor = mydb.cursor()\n",
    "\n",
    "cursor.execute(query)\n",
    "\n",
    "mydb.commit()\n",
    "\n",
    "cursor.close()"
   ]
  },
  {
   "cell_type": "code",
   "execution_count": 53,
   "metadata": {},
   "outputs": [
    {
     "data": {
      "text/html": [
       "<div>\n",
       "<style scoped>\n",
       "    .dataframe tbody tr th:only-of-type {\n",
       "        vertical-align: middle;\n",
       "    }\n",
       "\n",
       "    .dataframe tbody tr th {\n",
       "        vertical-align: top;\n",
       "    }\n",
       "\n",
       "    .dataframe thead th {\n",
       "        text-align: right;\n",
       "    }\n",
       "</style>\n",
       "<table border=\"1\" class=\"dataframe\">\n",
       "  <thead>\n",
       "    <tr style=\"text-align: right;\">\n",
       "      <th></th>\n",
       "      <th>Field</th>\n",
       "      <th>Type</th>\n",
       "      <th>Null</th>\n",
       "      <th>Key</th>\n",
       "      <th>Default</th>\n",
       "      <th>Extra</th>\n",
       "    </tr>\n",
       "  </thead>\n",
       "  <tbody>\n",
       "    <tr>\n",
       "      <th>0</th>\n",
       "      <td>listing_id</td>\n",
       "      <td>b'int'</td>\n",
       "      <td>YES</td>\n",
       "      <td>MUL</td>\n",
       "      <td>None</td>\n",
       "      <td></td>\n",
       "    </tr>\n",
       "    <tr>\n",
       "      <th>1</th>\n",
       "      <td>id</td>\n",
       "      <td>b'int'</td>\n",
       "      <td>NO</td>\n",
       "      <td>PRI</td>\n",
       "      <td>None</td>\n",
       "      <td></td>\n",
       "    </tr>\n",
       "    <tr>\n",
       "      <th>2</th>\n",
       "      <td>date</td>\n",
       "      <td>b'date'</td>\n",
       "      <td>YES</td>\n",
       "      <td></td>\n",
       "      <td>None</td>\n",
       "      <td></td>\n",
       "    </tr>\n",
       "    <tr>\n",
       "      <th>3</th>\n",
       "      <td>reviewer_id</td>\n",
       "      <td>b'int'</td>\n",
       "      <td>YES</td>\n",
       "      <td>MUL</td>\n",
       "      <td>None</td>\n",
       "      <td></td>\n",
       "    </tr>\n",
       "    <tr>\n",
       "      <th>4</th>\n",
       "      <td>comments</td>\n",
       "      <td>b'varchar(6000)'</td>\n",
       "      <td>YES</td>\n",
       "      <td></td>\n",
       "      <td>None</td>\n",
       "      <td></td>\n",
       "    </tr>\n",
       "  </tbody>\n",
       "</table>\n",
       "</div>"
      ],
      "text/plain": [
       "         Field              Type Null  Key Default Extra\n",
       "0   listing_id            b'int'  YES  MUL    None      \n",
       "1           id            b'int'   NO  PRI    None      \n",
       "2         date           b'date'  YES         None      \n",
       "3  reviewer_id            b'int'  YES  MUL    None      \n",
       "4     comments  b'varchar(6000)'  YES         None      "
      ]
     },
     "execution_count": 53,
     "metadata": {},
     "output_type": "execute_result"
    }
   ],
   "source": [
    "pd.read_sql(\"DESCRIBE review\", mydb)"
   ]
  },
  {
   "cell_type": "markdown",
   "metadata": {},
   "source": [
    "### Insert Data to Review Table\n",
    "\n",
    "Let's insert the review data to the table in MySQL."
   ]
  },
  {
   "cell_type": "raw",
   "metadata": {},
   "source": [
    "insert_to_sql(df_new_review, 'review')"
   ]
  },
  {
   "cell_type": "markdown",
   "metadata": {},
   "source": [
    "### Query the Review Table\n",
    "\n",
    "Let's check the number of review that contain missing value in the comment column (has no review text). **IS NULL** means that we want to filter data that has missing value. If you want to return data that is not missing value, you can use **IS NOT NULL**."
   ]
  },
  {
   "cell_type": "code",
   "execution_count": 55,
   "metadata": {},
   "outputs": [
    {
     "data": {
      "text/html": [
       "<div>\n",
       "<style scoped>\n",
       "    .dataframe tbody tr th:only-of-type {\n",
       "        vertical-align: middle;\n",
       "    }\n",
       "\n",
       "    .dataframe tbody tr th {\n",
       "        vertical-align: top;\n",
       "    }\n",
       "\n",
       "    .dataframe thead th {\n",
       "        text-align: right;\n",
       "    }\n",
       "</style>\n",
       "<table border=\"1\" class=\"dataframe\">\n",
       "  <thead>\n",
       "    <tr style=\"text-align: right;\">\n",
       "      <th></th>\n",
       "      <th>frequency</th>\n",
       "    </tr>\n",
       "  </thead>\n",
       "  <tbody>\n",
       "    <tr>\n",
       "      <th>0</th>\n",
       "      <td>101</td>\n",
       "    </tr>\n",
       "  </tbody>\n",
       "</table>\n",
       "</div>"
      ],
      "text/plain": [
       "   frequency\n",
       "0        101"
      ]
     },
     "execution_count": 55,
     "metadata": {},
     "output_type": "execute_result"
    }
   ],
   "source": [
    "query = \"\"\"\n",
    "SELECT COUNT(*) as frequency \n",
    "FROM review \n",
    "WHERE comments IS NULL\n",
    "\"\"\"\n",
    "\n",
    "pd.read_sql(query, mydb)"
   ]
  },
  {
   "cell_type": "markdown",
   "metadata": {},
   "source": [
    "Let's check some review data that has no comment."
   ]
  },
  {
   "cell_type": "code",
   "execution_count": 56,
   "metadata": {},
   "outputs": [
    {
     "data": {
      "text/html": [
       "<div>\n",
       "<style scoped>\n",
       "    .dataframe tbody tr th:only-of-type {\n",
       "        vertical-align: middle;\n",
       "    }\n",
       "\n",
       "    .dataframe tbody tr th {\n",
       "        vertical-align: top;\n",
       "    }\n",
       "\n",
       "    .dataframe thead th {\n",
       "        text-align: right;\n",
       "    }\n",
       "</style>\n",
       "<table border=\"1\" class=\"dataframe\">\n",
       "  <thead>\n",
       "    <tr style=\"text-align: right;\">\n",
       "      <th></th>\n",
       "      <th>listing_id</th>\n",
       "      <th>id</th>\n",
       "      <th>date</th>\n",
       "      <th>reviewer_id</th>\n",
       "      <th>comments</th>\n",
       "    </tr>\n",
       "  </thead>\n",
       "  <tbody>\n",
       "    <tr>\n",
       "      <th>0</th>\n",
       "      <td>13088479</td>\n",
       "      <td>81444067</td>\n",
       "      <td>2016-06-23</td>\n",
       "      <td>18142579</td>\n",
       "      <td>None</td>\n",
       "    </tr>\n",
       "    <tr>\n",
       "      <th>1</th>\n",
       "      <td>982909</td>\n",
       "      <td>154334511</td>\n",
       "      <td>2017-05-24</td>\n",
       "      <td>9913702</td>\n",
       "      <td>None</td>\n",
       "    </tr>\n",
       "    <tr>\n",
       "      <th>2</th>\n",
       "      <td>12484261</td>\n",
       "      <td>167188622</td>\n",
       "      <td>2017-07-06</td>\n",
       "      <td>1834042</td>\n",
       "      <td>None</td>\n",
       "    </tr>\n",
       "    <tr>\n",
       "      <th>3</th>\n",
       "      <td>19615310</td>\n",
       "      <td>194418577</td>\n",
       "      <td>2017-09-17</td>\n",
       "      <td>112701064</td>\n",
       "      <td>None</td>\n",
       "    </tr>\n",
       "    <tr>\n",
       "      <th>4</th>\n",
       "      <td>18395154</td>\n",
       "      <td>195827922</td>\n",
       "      <td>2017-09-21</td>\n",
       "      <td>62870530</td>\n",
       "      <td>None</td>\n",
       "    </tr>\n",
       "  </tbody>\n",
       "</table>\n",
       "</div>"
      ],
      "text/plain": [
       "   listing_id         id        date  reviewer_id comments\n",
       "0    13088479   81444067  2016-06-23     18142579     None\n",
       "1      982909  154334511  2017-05-24      9913702     None\n",
       "2    12484261  167188622  2017-07-06      1834042     None\n",
       "3    19615310  194418577  2017-09-17    112701064     None\n",
       "4    18395154  195827922  2017-09-21     62870530     None"
      ]
     },
     "execution_count": 56,
     "metadata": {},
     "output_type": "execute_result"
    }
   ],
   "source": [
    "pd.read_sql(\"SELECT * FROM review WHERE comments IS NULL LIMIT 5\", mydb)"
   ]
  },
  {
   "cell_type": "markdown",
   "metadata": {},
   "source": [
    "## Calendar\n",
    "\n",
    "### Processing Calendar Data\n",
    "\n",
    "Finally, we come to the last and the largest data that we have. This data contain daily availability, the room price and the minimum and maximum number of allowed night to stay. "
   ]
  },
  {
   "cell_type": "code",
   "execution_count": 57,
   "metadata": {},
   "outputs": [
    {
     "data": {
      "text/html": [
       "<div>\n",
       "<style scoped>\n",
       "    .dataframe tbody tr th:only-of-type {\n",
       "        vertical-align: middle;\n",
       "    }\n",
       "\n",
       "    .dataframe tbody tr th {\n",
       "        vertical-align: top;\n",
       "    }\n",
       "\n",
       "    .dataframe thead th {\n",
       "        text-align: right;\n",
       "    }\n",
       "</style>\n",
       "<table border=\"1\" class=\"dataframe\">\n",
       "  <thead>\n",
       "    <tr style=\"text-align: right;\">\n",
       "      <th></th>\n",
       "      <th>listing_id</th>\n",
       "      <th>date</th>\n",
       "      <th>available</th>\n",
       "      <th>price</th>\n",
       "      <th>adjusted_price</th>\n",
       "      <th>minimum_nights</th>\n",
       "      <th>maximum_nights</th>\n",
       "    </tr>\n",
       "  </thead>\n",
       "  <tbody>\n",
       "    <tr>\n",
       "      <th>0</th>\n",
       "      <td>4576362</td>\n",
       "      <td>2021-03-29</td>\n",
       "      <td>t</td>\n",
       "      <td>$90.00</td>\n",
       "      <td>$90.00</td>\n",
       "      <td>18.0</td>\n",
       "      <td>1125.0</td>\n",
       "    </tr>\n",
       "    <tr>\n",
       "      <th>1</th>\n",
       "      <td>1941719</td>\n",
       "      <td>2021-03-26</td>\n",
       "      <td>t</td>\n",
       "      <td>$119.00</td>\n",
       "      <td>$119.00</td>\n",
       "      <td>NaN</td>\n",
       "      <td>NaN</td>\n",
       "    </tr>\n",
       "    <tr>\n",
       "      <th>2</th>\n",
       "      <td>1941719</td>\n",
       "      <td>2021-03-27</td>\n",
       "      <td>f</td>\n",
       "      <td>$119.00</td>\n",
       "      <td>$119.00</td>\n",
       "      <td>4.0</td>\n",
       "      <td>1123.0</td>\n",
       "    </tr>\n",
       "    <tr>\n",
       "      <th>3</th>\n",
       "      <td>1941719</td>\n",
       "      <td>2021-03-28</td>\n",
       "      <td>f</td>\n",
       "      <td>$119.00</td>\n",
       "      <td>$119.00</td>\n",
       "      <td>4.0</td>\n",
       "      <td>1123.0</td>\n",
       "    </tr>\n",
       "    <tr>\n",
       "      <th>4</th>\n",
       "      <td>1941719</td>\n",
       "      <td>2021-03-29</td>\n",
       "      <td>f</td>\n",
       "      <td>$119.00</td>\n",
       "      <td>$119.00</td>\n",
       "      <td>4.0</td>\n",
       "      <td>1123.0</td>\n",
       "    </tr>\n",
       "  </tbody>\n",
       "</table>\n",
       "</div>"
      ],
      "text/plain": [
       "   listing_id        date available    price adjusted_price  minimum_nights  \\\n",
       "0     4576362  2021-03-29         t   $90.00         $90.00            18.0   \n",
       "1     1941719  2021-03-26         t  $119.00        $119.00             NaN   \n",
       "2     1941719  2021-03-27         f  $119.00        $119.00             4.0   \n",
       "3     1941719  2021-03-28         f  $119.00        $119.00             4.0   \n",
       "4     1941719  2021-03-29         f  $119.00        $119.00             4.0   \n",
       "\n",
       "   maximum_nights  \n",
       "0          1125.0  \n",
       "1             NaN  \n",
       "2          1123.0  \n",
       "3          1123.0  \n",
       "4          1123.0  "
      ]
     },
     "execution_count": 57,
     "metadata": {},
     "output_type": "execute_result"
    }
   ],
   "source": [
    "df_calendar = pd.read_csv('data/calendar.csv')\n",
    "\n",
    "df_calendar.head()"
   ]
  },
  {
   "cell_type": "markdown",
   "metadata": {},
   "source": [
    "Let's change the `price` and `adjusted_price` column to proper numeric column."
   ]
  },
  {
   "cell_type": "code",
   "execution_count": 58,
   "metadata": {},
   "outputs": [],
   "source": [
    "for col in ['price', 'adjusted_price']:\n",
    "    \n",
    "    df_calendar[col] = list(map(lambda x: float(re.sub('[$,]', '', x)), df_calendar[col]))"
   ]
  },
  {
   "cell_type": "markdown",
   "metadata": {},
   "source": [
    "Let's transform the `available` column to proper logical column and clean all string columns."
   ]
  },
  {
   "cell_type": "code",
   "execution_count": 59,
   "metadata": {},
   "outputs": [],
   "source": [
    "df_calendar['available'] = list(map(lambda x: True if x == \"t\" else False if x == \"f\" else None, df_calendar['available']))\n",
    "\n",
    "df_calendar = clean_char(df_calendar)"
   ]
  },
  {
   "cell_type": "markdown",
   "metadata": {},
   "source": [
    "Let's check the data type."
   ]
  },
  {
   "cell_type": "code",
   "execution_count": 60,
   "metadata": {},
   "outputs": [
    {
     "name": "stdout",
     "output_type": "stream",
     "text": [
      "<class 'pandas.core.frame.DataFrame'>\n",
      "RangeIndex: 1601498 entries, 0 to 1601497\n",
      "Data columns (total 7 columns):\n",
      " #   Column          Non-Null Count    Dtype  \n",
      "---  ------          --------------    -----  \n",
      " 0   listing_id      1601498 non-null  int64  \n",
      " 1   date            1601498 non-null  object \n",
      " 2   available       1601498 non-null  bool   \n",
      " 3   price           1601498 non-null  float64\n",
      " 4   adjusted_price  1601498 non-null  float64\n",
      " 5   minimum_nights  1601255 non-null  float64\n",
      " 6   maximum_nights  1601255 non-null  float64\n",
      "dtypes: bool(1), float64(4), int64(1), object(1)\n",
      "memory usage: 74.8+ MB\n"
     ]
    }
   ],
   "source": [
    "df_calendar.info()"
   ]
  },
  {
   "cell_type": "markdown",
   "metadata": {},
   "source": [
    "### Create Calendar Table\n",
    "\n",
    "Let's create the table in MySQL server. The calendar has no primary key (or you can create one if you want) and has foreign key that will connect to the listing table."
   ]
  },
  {
   "cell_type": "code",
   "execution_count": 61,
   "metadata": {},
   "outputs": [],
   "source": [
    "query = \"\"\"\n",
    "CREATE TABLE calendar (\n",
    "listing_id INT,\n",
    "date DATE,\n",
    "available BOOLEAN,\n",
    "price DECIMAL(16,5),\n",
    "adjusted_price DECIMAL(16,5),\n",
    "minimum_nights INT,\n",
    "maximum_nights INT,\n",
    "FOREIGN KEY (listing_id) REFERENCES listing(id)\n",
    ")\n",
    "\"\"\""
   ]
  },
  {
   "cell_type": "raw",
   "metadata": {},
   "source": [
    "cursor = mydb.cursor()\n",
    "\n",
    "cursor.execute(query)\n",
    "\n",
    "mydb.commit()\n",
    "\n",
    "cursor.close()"
   ]
  },
  {
   "cell_type": "markdown",
   "metadata": {},
   "source": [
    "Let's check the description in our MySQL server."
   ]
  },
  {
   "cell_type": "code",
   "execution_count": 62,
   "metadata": {},
   "outputs": [
    {
     "data": {
      "text/html": [
       "<div>\n",
       "<style scoped>\n",
       "    .dataframe tbody tr th:only-of-type {\n",
       "        vertical-align: middle;\n",
       "    }\n",
       "\n",
       "    .dataframe tbody tr th {\n",
       "        vertical-align: top;\n",
       "    }\n",
       "\n",
       "    .dataframe thead th {\n",
       "        text-align: right;\n",
       "    }\n",
       "</style>\n",
       "<table border=\"1\" class=\"dataframe\">\n",
       "  <thead>\n",
       "    <tr style=\"text-align: right;\">\n",
       "      <th></th>\n",
       "      <th>Field</th>\n",
       "      <th>Type</th>\n",
       "      <th>Null</th>\n",
       "      <th>Key</th>\n",
       "      <th>Default</th>\n",
       "      <th>Extra</th>\n",
       "    </tr>\n",
       "  </thead>\n",
       "  <tbody>\n",
       "    <tr>\n",
       "      <th>0</th>\n",
       "      <td>listing_id</td>\n",
       "      <td>b'int'</td>\n",
       "      <td>YES</td>\n",
       "      <td>MUL</td>\n",
       "      <td>None</td>\n",
       "      <td></td>\n",
       "    </tr>\n",
       "    <tr>\n",
       "      <th>1</th>\n",
       "      <td>date</td>\n",
       "      <td>b'date'</td>\n",
       "      <td>YES</td>\n",
       "      <td></td>\n",
       "      <td>None</td>\n",
       "      <td></td>\n",
       "    </tr>\n",
       "    <tr>\n",
       "      <th>2</th>\n",
       "      <td>available</td>\n",
       "      <td>b'tinyint(1)'</td>\n",
       "      <td>YES</td>\n",
       "      <td></td>\n",
       "      <td>None</td>\n",
       "      <td></td>\n",
       "    </tr>\n",
       "    <tr>\n",
       "      <th>3</th>\n",
       "      <td>price</td>\n",
       "      <td>b'decimal(16,5)'</td>\n",
       "      <td>YES</td>\n",
       "      <td></td>\n",
       "      <td>None</td>\n",
       "      <td></td>\n",
       "    </tr>\n",
       "    <tr>\n",
       "      <th>4</th>\n",
       "      <td>adjusted_price</td>\n",
       "      <td>b'decimal(16,5)'</td>\n",
       "      <td>YES</td>\n",
       "      <td></td>\n",
       "      <td>None</td>\n",
       "      <td></td>\n",
       "    </tr>\n",
       "    <tr>\n",
       "      <th>5</th>\n",
       "      <td>minimum_nights</td>\n",
       "      <td>b'int'</td>\n",
       "      <td>YES</td>\n",
       "      <td></td>\n",
       "      <td>None</td>\n",
       "      <td></td>\n",
       "    </tr>\n",
       "    <tr>\n",
       "      <th>6</th>\n",
       "      <td>maximum_nights</td>\n",
       "      <td>b'int'</td>\n",
       "      <td>YES</td>\n",
       "      <td></td>\n",
       "      <td>None</td>\n",
       "      <td></td>\n",
       "    </tr>\n",
       "  </tbody>\n",
       "</table>\n",
       "</div>"
      ],
      "text/plain": [
       "            Field              Type Null  Key Default Extra\n",
       "0      listing_id            b'int'  YES  MUL    None      \n",
       "1            date           b'date'  YES         None      \n",
       "2       available     b'tinyint(1)'  YES         None      \n",
       "3           price  b'decimal(16,5)'  YES         None      \n",
       "4  adjusted_price  b'decimal(16,5)'  YES         None      \n",
       "5  minimum_nights            b'int'  YES         None      \n",
       "6  maximum_nights            b'int'  YES         None      "
      ]
     },
     "execution_count": 62,
     "metadata": {},
     "output_type": "execute_result"
    }
   ],
   "source": [
    "pd.read_sql(\"DESCRIBE calendar\", mydb)"
   ]
  },
  {
   "cell_type": "markdown",
   "metadata": {},
   "source": [
    "### Insert Data to Calendar Table\n",
    "\n",
    "Let's see how many rows that we have in this dataset."
   ]
  },
  {
   "cell_type": "code",
   "execution_count": 63,
   "metadata": {},
   "outputs": [
    {
     "name": "stdout",
     "output_type": "stream",
     "text": [
      "Number of rows: 1,601,498\n"
     ]
    }
   ],
   "source": [
    "print(\"Number of rows: {:,}\".format(df_calendar.shape[0]))"
   ]
  },
  {
   "cell_type": "markdown",
   "metadata": {},
   "source": [
    "As you can see, our calendar data has more than 1 million rows. It may be risky to insert 1 million rows in a single time, so we will split the data into several batch. For example, here I split the data into 20 batch."
   ]
  },
  {
   "cell_type": "code",
   "execution_count": 64,
   "metadata": {},
   "outputs": [
    {
     "data": {
      "text/plain": [
       "array([     0,  84289, 168578, 252868, 337157, 421446, 505736, 590025,\n",
       "       674314, 758604])"
      ]
     },
     "execution_count": 64,
     "metadata": {},
     "output_type": "execute_result"
    }
   ],
   "source": [
    "data_split = np.linspace(0, df_calendar.shape[0], 20).astype('int')\n",
    "\n",
    "data_split[0:10]"
   ]
  },
  {
   "cell_type": "markdown",
   "metadata": {},
   "source": [
    "The first batch will contain data from the first row (0) to the 84289th row."
   ]
  },
  {
   "cell_type": "code",
   "execution_count": 65,
   "metadata": {},
   "outputs": [
    {
     "data": {
      "text/html": [
       "<div>\n",
       "<style scoped>\n",
       "    .dataframe tbody tr th:only-of-type {\n",
       "        vertical-align: middle;\n",
       "    }\n",
       "\n",
       "    .dataframe tbody tr th {\n",
       "        vertical-align: top;\n",
       "    }\n",
       "\n",
       "    .dataframe thead th {\n",
       "        text-align: right;\n",
       "    }\n",
       "</style>\n",
       "<table border=\"1\" class=\"dataframe\">\n",
       "  <thead>\n",
       "    <tr style=\"text-align: right;\">\n",
       "      <th></th>\n",
       "      <th>listing_id</th>\n",
       "      <th>date</th>\n",
       "      <th>available</th>\n",
       "      <th>price</th>\n",
       "      <th>adjusted_price</th>\n",
       "      <th>minimum_nights</th>\n",
       "      <th>maximum_nights</th>\n",
       "    </tr>\n",
       "  </thead>\n",
       "  <tbody>\n",
       "    <tr>\n",
       "      <th>0</th>\n",
       "      <td>4576362</td>\n",
       "      <td>\"2021-03-29\"</td>\n",
       "      <td>True</td>\n",
       "      <td>90.0</td>\n",
       "      <td>90.0</td>\n",
       "      <td>18.0</td>\n",
       "      <td>1125.0</td>\n",
       "    </tr>\n",
       "    <tr>\n",
       "      <th>1</th>\n",
       "      <td>1941719</td>\n",
       "      <td>\"2021-03-26\"</td>\n",
       "      <td>True</td>\n",
       "      <td>119.0</td>\n",
       "      <td>119.0</td>\n",
       "      <td>NaN</td>\n",
       "      <td>NaN</td>\n",
       "    </tr>\n",
       "    <tr>\n",
       "      <th>2</th>\n",
       "      <td>1941719</td>\n",
       "      <td>\"2021-03-27\"</td>\n",
       "      <td>False</td>\n",
       "      <td>119.0</td>\n",
       "      <td>119.0</td>\n",
       "      <td>4.0</td>\n",
       "      <td>1123.0</td>\n",
       "    </tr>\n",
       "    <tr>\n",
       "      <th>3</th>\n",
       "      <td>1941719</td>\n",
       "      <td>\"2021-03-28\"</td>\n",
       "      <td>False</td>\n",
       "      <td>119.0</td>\n",
       "      <td>119.0</td>\n",
       "      <td>4.0</td>\n",
       "      <td>1123.0</td>\n",
       "    </tr>\n",
       "    <tr>\n",
       "      <th>4</th>\n",
       "      <td>1941719</td>\n",
       "      <td>\"2021-03-29\"</td>\n",
       "      <td>False</td>\n",
       "      <td>119.0</td>\n",
       "      <td>119.0</td>\n",
       "      <td>4.0</td>\n",
       "      <td>1123.0</td>\n",
       "    </tr>\n",
       "    <tr>\n",
       "      <th>...</th>\n",
       "      <td>...</td>\n",
       "      <td>...</td>\n",
       "      <td>...</td>\n",
       "      <td>...</td>\n",
       "      <td>...</td>\n",
       "      <td>...</td>\n",
       "      <td>...</td>\n",
       "    </tr>\n",
       "    <tr>\n",
       "      <th>84284</th>\n",
       "      <td>5436010</td>\n",
       "      <td>\"2021-10-17\"</td>\n",
       "      <td>True</td>\n",
       "      <td>60.0</td>\n",
       "      <td>60.0</td>\n",
       "      <td>7.0</td>\n",
       "      <td>180.0</td>\n",
       "    </tr>\n",
       "    <tr>\n",
       "      <th>84285</th>\n",
       "      <td>5436010</td>\n",
       "      <td>\"2021-10-18\"</td>\n",
       "      <td>True</td>\n",
       "      <td>60.0</td>\n",
       "      <td>60.0</td>\n",
       "      <td>7.0</td>\n",
       "      <td>180.0</td>\n",
       "    </tr>\n",
       "    <tr>\n",
       "      <th>84286</th>\n",
       "      <td>5436010</td>\n",
       "      <td>\"2021-10-19\"</td>\n",
       "      <td>True</td>\n",
       "      <td>60.0</td>\n",
       "      <td>60.0</td>\n",
       "      <td>7.0</td>\n",
       "      <td>180.0</td>\n",
       "    </tr>\n",
       "    <tr>\n",
       "      <th>84287</th>\n",
       "      <td>5436010</td>\n",
       "      <td>\"2021-10-20\"</td>\n",
       "      <td>True</td>\n",
       "      <td>60.0</td>\n",
       "      <td>60.0</td>\n",
       "      <td>7.0</td>\n",
       "      <td>180.0</td>\n",
       "    </tr>\n",
       "    <tr>\n",
       "      <th>84288</th>\n",
       "      <td>5436010</td>\n",
       "      <td>\"2021-10-21\"</td>\n",
       "      <td>True</td>\n",
       "      <td>60.0</td>\n",
       "      <td>60.0</td>\n",
       "      <td>7.0</td>\n",
       "      <td>180.0</td>\n",
       "    </tr>\n",
       "  </tbody>\n",
       "</table>\n",
       "<p>84289 rows × 7 columns</p>\n",
       "</div>"
      ],
      "text/plain": [
       "       listing_id          date  available  price  adjusted_price  \\\n",
       "0         4576362  \"2021-03-29\"       True   90.0            90.0   \n",
       "1         1941719  \"2021-03-26\"       True  119.0           119.0   \n",
       "2         1941719  \"2021-03-27\"      False  119.0           119.0   \n",
       "3         1941719  \"2021-03-28\"      False  119.0           119.0   \n",
       "4         1941719  \"2021-03-29\"      False  119.0           119.0   \n",
       "...           ...           ...        ...    ...             ...   \n",
       "84284     5436010  \"2021-10-17\"       True   60.0            60.0   \n",
       "84285     5436010  \"2021-10-18\"       True   60.0            60.0   \n",
       "84286     5436010  \"2021-10-19\"       True   60.0            60.0   \n",
       "84287     5436010  \"2021-10-20\"       True   60.0            60.0   \n",
       "84288     5436010  \"2021-10-21\"       True   60.0            60.0   \n",
       "\n",
       "       minimum_nights  maximum_nights  \n",
       "0                18.0          1125.0  \n",
       "1                 NaN             NaN  \n",
       "2                 4.0          1123.0  \n",
       "3                 4.0          1123.0  \n",
       "4                 4.0          1123.0  \n",
       "...               ...             ...  \n",
       "84284             7.0           180.0  \n",
       "84285             7.0           180.0  \n",
       "84286             7.0           180.0  \n",
       "84287             7.0           180.0  \n",
       "84288             7.0           180.0  \n",
       "\n",
       "[84289 rows x 7 columns]"
      ]
     },
     "execution_count": 65,
     "metadata": {},
     "output_type": "execute_result"
    }
   ],
   "source": [
    "df_calendar.iloc[ data_split[0]:data_split[(0+1)] ]"
   ]
  },
  {
   "cell_type": "markdown",
   "metadata": {},
   "source": [
    "Let's start inserting the data, one batch at a time. This may take several minutes."
   ]
  },
  {
   "cell_type": "raw",
   "metadata": {},
   "source": [
    "# Insert data per batch\n",
    "for i in range(len(data_split)):\n",
    "    \n",
    "    if i < (len(data_split) -1) :\n",
    "        \n",
    "        print(\"Uploading rows: \" + str( data_split[i] ) + '-' + str( data_split[ (i+1) ] ))\n",
    "        \n",
    "        # Select data according to batch\n",
    "        calendar_to_upload = df_calendar.iloc[ data_split[i]:data_split[(i+1)] ]\n",
    "        \n",
    "        # Insert data to MySQL\n",
    "        insert_to_sql(calendar_to_upload, 'calendar')\n",
    "        \n",
    "        print('-----------------')"
   ]
  },
  {
   "cell_type": "markdown",
   "metadata": {},
   "source": [
    "### Query the Calendar Table"
   ]
  },
  {
   "cell_type": "markdown",
   "metadata": {},
   "source": [
    "Let's do some simple query to check if the data is properly inserted to MySQL.\n",
    "\n",
    "Let's check the number of row."
   ]
  },
  {
   "cell_type": "code",
   "execution_count": 66,
   "metadata": {},
   "outputs": [
    {
     "data": {
      "text/html": [
       "<div>\n",
       "<style scoped>\n",
       "    .dataframe tbody tr th:only-of-type {\n",
       "        vertical-align: middle;\n",
       "    }\n",
       "\n",
       "    .dataframe tbody tr th {\n",
       "        vertical-align: top;\n",
       "    }\n",
       "\n",
       "    .dataframe thead th {\n",
       "        text-align: right;\n",
       "    }\n",
       "</style>\n",
       "<table border=\"1\" class=\"dataframe\">\n",
       "  <thead>\n",
       "    <tr style=\"text-align: right;\">\n",
       "      <th></th>\n",
       "      <th>COUNT(*)</th>\n",
       "    </tr>\n",
       "  </thead>\n",
       "  <tbody>\n",
       "    <tr>\n",
       "      <th>0</th>\n",
       "      <td>1601498</td>\n",
       "    </tr>\n",
       "  </tbody>\n",
       "</table>\n",
       "</div>"
      ],
      "text/plain": [
       "   COUNT(*)\n",
       "0   1601498"
      ]
     },
     "execution_count": 66,
     "metadata": {},
     "output_type": "execute_result"
    }
   ],
   "source": [
    "pd.read_sql(\"SELECT COUNT(*) FROM calendar\", mydb)"
   ]
  },
  {
   "cell_type": "markdown",
   "metadata": {},
   "source": [
    "Let's check the date with the most unavailability."
   ]
  },
  {
   "cell_type": "code",
   "execution_count": 67,
   "metadata": {},
   "outputs": [
    {
     "data": {
      "text/html": [
       "<div>\n",
       "<style scoped>\n",
       "    .dataframe tbody tr th:only-of-type {\n",
       "        vertical-align: middle;\n",
       "    }\n",
       "\n",
       "    .dataframe tbody tr th {\n",
       "        vertical-align: top;\n",
       "    }\n",
       "\n",
       "    .dataframe thead th {\n",
       "        text-align: right;\n",
       "    }\n",
       "</style>\n",
       "<table border=\"1\" class=\"dataframe\">\n",
       "  <thead>\n",
       "    <tr style=\"text-align: right;\">\n",
       "      <th></th>\n",
       "      <th>date</th>\n",
       "      <th>frequency</th>\n",
       "    </tr>\n",
       "  </thead>\n",
       "  <tbody>\n",
       "    <tr>\n",
       "      <th>0</th>\n",
       "      <td>2021-03-27</td>\n",
       "      <td>2430</td>\n",
       "    </tr>\n",
       "    <tr>\n",
       "      <th>1</th>\n",
       "      <td>2021-03-26</td>\n",
       "      <td>2176</td>\n",
       "    </tr>\n",
       "    <tr>\n",
       "      <th>2</th>\n",
       "      <td>2021-03-28</td>\n",
       "      <td>2052</td>\n",
       "    </tr>\n",
       "    <tr>\n",
       "      <th>3</th>\n",
       "      <td>2021-03-29</td>\n",
       "      <td>1973</td>\n",
       "    </tr>\n",
       "    <tr>\n",
       "      <th>4</th>\n",
       "      <td>2021-03-30</td>\n",
       "      <td>1882</td>\n",
       "    </tr>\n",
       "    <tr>\n",
       "      <th>5</th>\n",
       "      <td>2021-03-31</td>\n",
       "      <td>1820</td>\n",
       "    </tr>\n",
       "    <tr>\n",
       "      <th>6</th>\n",
       "      <td>2021-04-01</td>\n",
       "      <td>1676</td>\n",
       "    </tr>\n",
       "    <tr>\n",
       "      <th>7</th>\n",
       "      <td>2021-04-02</td>\n",
       "      <td>1654</td>\n",
       "    </tr>\n",
       "    <tr>\n",
       "      <th>8</th>\n",
       "      <td>2021-04-03</td>\n",
       "      <td>1572</td>\n",
       "    </tr>\n",
       "    <tr>\n",
       "      <th>9</th>\n",
       "      <td>2022-01-01</td>\n",
       "      <td>1494</td>\n",
       "    </tr>\n",
       "    <tr>\n",
       "      <th>10</th>\n",
       "      <td>2022-01-02</td>\n",
       "      <td>1490</td>\n",
       "    </tr>\n",
       "    <tr>\n",
       "      <th>11</th>\n",
       "      <td>2022-01-03</td>\n",
       "      <td>1490</td>\n",
       "    </tr>\n",
       "    <tr>\n",
       "      <th>12</th>\n",
       "      <td>2022-01-04</td>\n",
       "      <td>1489</td>\n",
       "    </tr>\n",
       "    <tr>\n",
       "      <th>13</th>\n",
       "      <td>2022-01-05</td>\n",
       "      <td>1489</td>\n",
       "    </tr>\n",
       "    <tr>\n",
       "      <th>14</th>\n",
       "      <td>2022-01-06</td>\n",
       "      <td>1488</td>\n",
       "    </tr>\n",
       "  </tbody>\n",
       "</table>\n",
       "</div>"
      ],
      "text/plain": [
       "          date  frequency\n",
       "0   2021-03-27       2430\n",
       "1   2021-03-26       2176\n",
       "2   2021-03-28       2052\n",
       "3   2021-03-29       1973\n",
       "4   2021-03-30       1882\n",
       "5   2021-03-31       1820\n",
       "6   2021-04-01       1676\n",
       "7   2021-04-02       1654\n",
       "8   2021-04-03       1572\n",
       "9   2022-01-01       1494\n",
       "10  2022-01-02       1490\n",
       "11  2022-01-03       1490\n",
       "12  2022-01-04       1489\n",
       "13  2022-01-05       1489\n",
       "14  2022-01-06       1488"
      ]
     },
     "execution_count": 67,
     "metadata": {},
     "output_type": "execute_result"
    }
   ],
   "source": [
    "query = \"\"\"\n",
    "SELECT date, COUNT(*) as frequency\n",
    "FROM calendar\n",
    "WHERE available IS FALSE\n",
    "GROUP BY date\n",
    "ORDER BY COUNT(*) DESC\n",
    "LIMIT 15\n",
    "\"\"\"\n",
    "\n",
    "pd.read_sql(query, mydb)"
   ]
  },
  {
   "cell_type": "markdown",
   "metadata": {},
   "source": [
    "# Closing\n",
    "\n",
    "If you have done with doing some query with your MySQL server, don't forget to close the connection to the database."
   ]
  },
  {
   "cell_type": "code",
   "execution_count": 68,
   "metadata": {},
   "outputs": [],
   "source": [
    "# Closing connection to database\n",
    "mydb.close()"
   ]
  },
  {
   "cell_type": "markdown",
   "metadata": {},
   "source": [
    "I hope that the notebook has fulfilled the following goal that we have stated earlier:\n",
    "\n",
    "- Create a database with MySQL server\n",
    "- Create multiple table\n",
    "- Insert data into SQL table \n",
    "- Write query to collect data from SQL database"
   ]
  }
 ],
 "metadata": {
  "interpreter": {
   "hash": "7f4d97f22a9a973173b012f9bc9d2a139f43a30261cf742acddd600eb9c24920"
  },
  "kernelspec": {
   "display_name": "Python 3",
   "language": "python",
   "name": "python3"
  },
  "language_info": {
   "codemirror_mode": {
    "name": "ipython",
    "version": 3
   },
   "file_extension": ".py",
   "mimetype": "text/x-python",
   "name": "python",
   "nbconvert_exporter": "python",
   "pygments_lexer": "ipython3",
   "version": "3.7.10"
  }
 },
 "nbformat": 4,
 "nbformat_minor": 4
}
