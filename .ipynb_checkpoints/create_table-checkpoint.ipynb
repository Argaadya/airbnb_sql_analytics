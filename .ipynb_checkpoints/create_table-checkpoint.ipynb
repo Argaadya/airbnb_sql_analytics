{
 "cells": [
  {
   "cell_type": "markdown",
   "id": "9f1433d6-68d7-4a70-87f9-b10ca1618e4d",
   "metadata": {},
   "source": [
    "# Connect and Insert Data to MySQL Server with Python\n",
    "\n",
    "# Introduction\n",
    "\n",
    "In the world with increasing data availability, it is become a norm to store and collect data from a cloud database instead of using a local file when you are part of a start up or large corporation. Several service, such as Google Cloud Platform or Microsoft Azure provide us with a cloud storage service to store a large dataset. Most of the current database system use SQL to store and collect this data. Therefore, understanding how to write a command or a query using SQL is currently one of the top skills required in data-related job, espescially for a data analyst and data scientist. The following graph is the result of [2020 Data Science and Machine Learning Survey](https://research.aimultiple.com/data-science-tools/).\n",
    "\n",
    "<center><img src=\"asset/survey.png\"></center>\n",
    "\n",
    "To learn more about how to run an SQL query, we will use one of the most common database management system: MySQL. On this occasion, I will guide you on how to do the following things with MySQL:\n",
    "\n",
    "- Create a database with MySQL server\n",
    "- Create multiple table\n",
    "- Insert data into SQL table \n",
    "- Write query to collect data from SQL database\n",
    "\n",
    "The full data analytics process that will analyze and gain insight from the data will be done in separate notebook.\n",
    "\n",
    "For a quick introduction about SQL if you are not familiar with SQL, you can visit [this website](https://www.learnsqlonline.org/) and just read the welcome page or you can try some practice and come back here later."
   ]
  }
 ],
 "metadata": {
  "kernelspec": {
   "display_name": "Python 3.8.8 64-bit ('learning': conda)",
   "language": "python",
   "name": "python388jvsc74a57bd07f4d97f22a9a973173b012f9bc9d2a139f43a30261cf742acddd600eb9c24920"
  },
  "language_info": {
   "codemirror_mode": {
    "name": "ipython",
    "version": 3
   },
   "file_extension": ".py",
   "mimetype": "text/x-python",
   "name": "python",
   "nbconvert_exporter": "python",
   "pygments_lexer": "ipython3",
   "version": "3.7.10"
  }
 },
 "nbformat": 4,
 "nbformat_minor": 5
}
